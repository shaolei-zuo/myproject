{
 "cells": [
  {
   "cell_type": "code",
   "execution_count": 1,
   "metadata": {},
   "outputs": [],
   "source": [
    "import sys\n",
    "sys.path.append('./app/')\n",
    "import fileio\n",
    "import preprocess as pp\n",
    "import xgboost as xgb\n",
    "from sklearn.linear_model import SGDClassifier\n",
    "import evaluation\n",
    "import datetime"
   ]
  },
  {
   "cell_type": "markdown",
   "metadata": {},
   "source": [
    "# 预处理\n",
    "1、随意选择lastfeature   \n",
    "2、随意组合，以及处理特征  \n",
    "\n"
   ]
  },
  {
   "cell_type": "code",
   "execution_count": 3,
   "metadata": {},
   "outputs": [],
   "source": [
    "def this_preprocess(dfoff):\n",
    "    dfoff = pp.process_manjian(dfoff)\n",
    "    dfoff = pp.process_distance(dfoff)\n",
    "    dfoff,weekdaycols = pp.process_Weekday(dfoff)\n",
    "    dfoff = pp.merge_nf1(dfoff)\n",
    "    \n",
    "    return dfoff,weekdaycols\n",
    "\n"
   ]
  },
  {
   "cell_type": "code",
   "execution_count": 2,
   "metadata": {},
   "outputs": [],
   "source": [
    "dfoff,dftest,dfon = fileio.read_all()\n",
    "\n",
    "dfnf1 = fileio.read_nf1()\n",
    "dfoff,weekdaycols = this_preprocess(dfoff)\n",
    "dftest,weekdaycols = this_preprocess(dftest)\n"
   ]
  },
  {
   "cell_type": "code",
   "execution_count": 5,
   "metadata": {},
   "outputs": [],
   "source": [
    "x_train,y_train,x_test,y_test,train,valid = pp.split_t_v(dfoff,weekdaycols)"
   ]
  },
  {
   "cell_type": "markdown",
   "metadata": {},
   "source": [
    "# 普选"
   ]
  },
  {
   "cell_type": "code",
   "execution_count": 6,
   "metadata": {},
   "outputs": [],
   "source": [
    "def count_fenshu(model,x_train,y_train,x_test,y_test,valid):\n",
    "    model.fit(x_train, y_train)\n",
    "    y_pre = model.predict(x_test)\n",
    "    y_prob = model.predict_proba(x_test)\n",
    "    cc = evaluation.get_official_auc(y_prob[:,1],y_test,valid)\n",
    "    return cc"
   ]
  },
  {
   "cell_type": "code",
   "execution_count": 7,
   "metadata": {},
   "outputs": [],
   "source": [
    "#\n",
    "#\n",
    "##xgb\n",
    "#param_dist = {'objective': 'binary:logistic', 'n_estimators': 17,\n",
    "#              'subsample': 0.8, 'max_depth': 13, 'n_jobs': -1}\n",
    "#model_xgb = xgb.XGBClassifier(**param_dist)\n",
    "#\n",
    "##sgd\n",
    "#model_sgd = SGDClassifier(loss='log',penalty='elasticnet',fit_intercept=True,max_iter=100,\n",
    "#                      shuffle=True,alpha = 0.01,l1_ratio = 0.01,n_jobs=1,class_weight=None)\n",
    "#\n",
    "##\n",
    "#model_name = ['model_xgb','model_sgd']\n",
    "#model_list = [model_xgb,model_sgd]\n",
    "#fenshu_list = [count_fenshu(mod,x_train,y_train,x_test,y_test,valid) for mod in model_list]\n",
    "#\n",
    "#for a,b in zip(model_name,fenshu_list):\n",
    "#    print(a,b)\n",
    "#\n",
    "#\n",
    "#\n"
   ]
  },
  {
   "cell_type": "code",
   "execution_count": 8,
   "metadata": {},
   "outputs": [],
   "source": [
    "from sklearn.linear_model import LogisticRegression  # 逻辑回归\n",
    "from sklearn.neural_network import MLPClassifier  # 多层感知机\n",
    "from sklearn.neighbors import KNeighborsClassifier  # K最近邻\n",
    "from sklearn.svm import SVC  # 支持向量机\n",
    "from sklearn.gaussian_process import GaussianProcessClassifier  # 高斯过程\n",
    "from sklearn.gaussian_process.kernels import RBF  # 高斯核函数\n",
    "from sklearn.tree import DecisionTreeClassifier  # 决策树\n",
    "from sklearn.ensemble import RandomForestClassifier, AdaBoostClassifier, GradientBoostingClassifier,\\\n",
    "    ExtraTreesClassifier, BaggingClassifier  # 集成方法\n",
    "from sklearn.naive_bayes import GaussianNB  # 高斯朴素贝叶斯\n",
    "from sklearn.discriminant_analysis import QuadraticDiscriminantAnalysis, LinearDiscriminantAnalysis  # 判别分析\n",
    "from xgboost import XGBClassifier  # 极端梯度提升（eXtreme Gradient Boosting）\n",
    "from warnings import filterwarnings\n",
    "filterwarnings('ignore')  # 忽略警告\n",
    "\n",
    "# 建模、设定参数\n",
    "classifiers = [\n",
    "    ('Logistic Regression', LogisticRegression()),  # 逻辑回归\n",
    "    #('Nearest Neighbors', KNeighborsClassifier(3)),  # K最近邻\n",
    "    #('Linear SVM', SVC(kernel='linear', C=0.025)),  # 线性的支持向量机\n",
    "    #('RBF SVM', SVC(gamma=2, C=1)),  # 径向基函数的支持向量机\n",
    "    #('Gaussian Process', GaussianProcessClassifier(1.0 * RBF(1.0))),  # 基于拉普拉斯近似的高斯过程\n",
    "    ('Decision Tree', DecisionTreeClassifier(max_depth=5)),  # 决策树\n",
    "    ('Random Forest', RandomForestClassifier(max_depth=5, n_estimators=10, max_features=1)),  # 随机森林\n",
    "    ('AdaBoost', AdaBoostClassifier()),  # 通过迭代弱分类器而产生最终的强分类器的算法\n",
    "    ('Extra Trees', ExtraTreesClassifier()),\n",
    "    ('GradientBoosting', GradientBoostingClassifier()),  # 梯度提升树\n",
    "    ('Bagging', BaggingClassifier()),\n",
    "    ('Naive Bayes', GaussianNB()),  # 朴素贝叶斯\n",
    "    ('QDA', QuadraticDiscriminantAnalysis()),  # 二次判别分析\n",
    "    ('LDA', LinearDiscriminantAnalysis()),  # 线性判别分析\n",
    "    ('MLP', MLPClassifier(alpha=1)),  # 多层感知机\n",
    "    ('XGB', XGBClassifier()),  # 极端梯度提升\n",
    "]"
   ]
  },
  {
   "cell_type": "code",
   "execution_count": 9,
   "metadata": {},
   "outputs": [],
   "source": [
    "#for name, clf in classifiers:\n",
    "#    clf.fit(x_train, y_train)  # 训练\n",
    "#    score = clf.score(x_test, y_test)  # 模型评分"
   ]
  },
  {
   "cell_type": "code",
   "execution_count": 10,
   "metadata": {
    "scrolled": false
   },
   "outputs": [
    {
     "name": "stdout",
     "output_type": "stream",
     "text": [
      "Logistic Regressionstar==================== 2020-10-15 10:59:35.820647\n"
     ]
    },
    {
     "name": "stderr",
     "output_type": "stream",
     "text": [
      "c:\\cx\\python\\python36\\installthere\\lib\\site-packages\\sklearn\\linear_model\\_logistic.py:762: ConvergenceWarning: lbfgs failed to converge (status=1):\n",
      "STOP: TOTAL NO. of ITERATIONS REACHED LIMIT.\n",
      "\n",
      "Increase the number of iterations (max_iter) or scale the data as shown in:\n",
      "    https://scikit-learn.org/stable/modules/preprocessing.html\n",
      "Please also refer to the documentation for alternative solver options:\n",
      "    https://scikit-learn.org/stable/modules/linear_model.html#logistic-regression\n",
      "  extra_warning_msg=_LOGISTIC_SOLVER_CONVERGENCE_MSG)\n",
      "c:\\cx\\python\\python36\\installthere\\lib\\site-packages\\sklearn\\metrics\\_ranking.py:805: UndefinedMetricWarning: No negative samples in y_true, false positive value should be meaningless\n",
      "  UndefinedMetricWarning)\n",
      "c:\\cx\\python\\python36\\installthere\\lib\\site-packages\\sklearn\\metrics\\_ranking.py:89: RuntimeWarning: invalid value encountered in less\n",
      "  if np.any(dx < 0):\n"
     ]
    },
    {
     "name": "stdout",
     "output_type": "stream",
     "text": [
      "Logistic Regression 0.5711924910002021 \t\n",
      "Decision Treestar==================== 2020-10-15 11:00:04.573879\n"
     ]
    },
    {
     "name": "stderr",
     "output_type": "stream",
     "text": [
      "c:\\cx\\python\\python36\\installthere\\lib\\site-packages\\sklearn\\metrics\\_ranking.py:805: UndefinedMetricWarning: No negative samples in y_true, false positive value should be meaningless\n",
      "  UndefinedMetricWarning)\n",
      "c:\\cx\\python\\python36\\installthere\\lib\\site-packages\\sklearn\\metrics\\_ranking.py:89: RuntimeWarning: invalid value encountered in less\n",
      "  if np.any(dx < 0):\n"
     ]
    },
    {
     "name": "stdout",
     "output_type": "stream",
     "text": [
      "Decision Tree 0.5479067773157106 \t\n",
      "Random Foreststar==================== 2020-10-15 11:00:17.365910\n"
     ]
    },
    {
     "name": "stderr",
     "output_type": "stream",
     "text": [
      "c:\\cx\\python\\python36\\installthere\\lib\\site-packages\\sklearn\\metrics\\_ranking.py:805: UndefinedMetricWarning: No negative samples in y_true, false positive value should be meaningless\n",
      "  UndefinedMetricWarning)\n",
      "c:\\cx\\python\\python36\\installthere\\lib\\site-packages\\sklearn\\metrics\\_ranking.py:89: RuntimeWarning: invalid value encountered in less\n",
      "  if np.any(dx < 0):\n"
     ]
    },
    {
     "name": "stdout",
     "output_type": "stream",
     "text": [
      "Random Forest 0.5688595883263098 \t\n",
      "AdaBooststar==================== 2020-10-15 11:00:33.233329\n"
     ]
    },
    {
     "name": "stderr",
     "output_type": "stream",
     "text": [
      "c:\\cx\\python\\python36\\installthere\\lib\\site-packages\\sklearn\\metrics\\_ranking.py:805: UndefinedMetricWarning: No negative samples in y_true, false positive value should be meaningless\n",
      "  UndefinedMetricWarning)\n",
      "c:\\cx\\python\\python36\\installthere\\lib\\site-packages\\sklearn\\metrics\\_ranking.py:89: RuntimeWarning: invalid value encountered in less\n",
      "  if np.any(dx < 0):\n"
     ]
    },
    {
     "name": "stdout",
     "output_type": "stream",
     "text": [
      "AdaBoost 0.569437089278744 \t\n",
      "Extra Treesstar==================== 2020-10-15 11:01:48.988865\n"
     ]
    },
    {
     "name": "stderr",
     "output_type": "stream",
     "text": [
      "c:\\cx\\python\\python36\\installthere\\lib\\site-packages\\sklearn\\metrics\\_ranking.py:805: UndefinedMetricWarning: No negative samples in y_true, false positive value should be meaningless\n",
      "  UndefinedMetricWarning)\n",
      "c:\\cx\\python\\python36\\installthere\\lib\\site-packages\\sklearn\\metrics\\_ranking.py:89: RuntimeWarning: invalid value encountered in less\n",
      "  if np.any(dx < 0):\n"
     ]
    },
    {
     "name": "stdout",
     "output_type": "stream",
     "text": [
      "Extra Trees 0.542898348685054 \t\n",
      "GradientBoostingstar==================== 2020-10-15 11:04:06.408118\n"
     ]
    },
    {
     "name": "stderr",
     "output_type": "stream",
     "text": [
      "c:\\cx\\python\\python36\\installthere\\lib\\site-packages\\sklearn\\metrics\\_ranking.py:805: UndefinedMetricWarning: No negative samples in y_true, false positive value should be meaningless\n",
      "  UndefinedMetricWarning)\n",
      "c:\\cx\\python\\python36\\installthere\\lib\\site-packages\\sklearn\\metrics\\_ranking.py:89: RuntimeWarning: invalid value encountered in less\n",
      "  if np.any(dx < 0):\n"
     ]
    },
    {
     "name": "stdout",
     "output_type": "stream",
     "text": [
      "GradientBoosting 0.5350407629651946 \t\n",
      "Baggingstar==================== 2020-10-15 11:06:47.389328\n"
     ]
    },
    {
     "name": "stderr",
     "output_type": "stream",
     "text": [
      "c:\\cx\\python\\python36\\installthere\\lib\\site-packages\\sklearn\\metrics\\_ranking.py:805: UndefinedMetricWarning: No negative samples in y_true, false positive value should be meaningless\n",
      "  UndefinedMetricWarning)\n",
      "c:\\cx\\python\\python36\\installthere\\lib\\site-packages\\sklearn\\metrics\\_ranking.py:89: RuntimeWarning: invalid value encountered in less\n",
      "  if np.any(dx < 0):\n"
     ]
    },
    {
     "name": "stdout",
     "output_type": "stream",
     "text": [
      "Bagging 0.5453630349454227 \t\n",
      "Naive Bayesstar==================== 2020-10-15 11:07:16.841008\n"
     ]
    },
    {
     "name": "stderr",
     "output_type": "stream",
     "text": [
      "c:\\cx\\python\\python36\\installthere\\lib\\site-packages\\sklearn\\metrics\\_ranking.py:805: UndefinedMetricWarning: No negative samples in y_true, false positive value should be meaningless\n",
      "  UndefinedMetricWarning)\n",
      "c:\\cx\\python\\python36\\installthere\\lib\\site-packages\\sklearn\\metrics\\_ranking.py:89: RuntimeWarning: invalid value encountered in less\n",
      "  if np.any(dx < 0):\n"
     ]
    },
    {
     "name": "stdout",
     "output_type": "stream",
     "text": [
      "Naive Bayes 0.5639029019386566 \t\n",
      "QDAstar==================== 2020-10-15 11:07:30.195450\n"
     ]
    },
    {
     "name": "stderr",
     "output_type": "stream",
     "text": [
      "c:\\cx\\python\\python36\\installthere\\lib\\site-packages\\sklearn\\discriminant_analysis.py:715: UserWarning: Variables are collinear\n",
      "  warnings.warn(\"Variables are collinear\")\n",
      "c:\\cx\\python\\python36\\installthere\\lib\\site-packages\\sklearn\\metrics\\_ranking.py:805: UndefinedMetricWarning: No negative samples in y_true, false positive value should be meaningless\n",
      "  UndefinedMetricWarning)\n",
      "c:\\cx\\python\\python36\\installthere\\lib\\site-packages\\sklearn\\metrics\\_ranking.py:89: RuntimeWarning: invalid value encountered in less\n",
      "  if np.any(dx < 0):\n"
     ]
    },
    {
     "name": "stdout",
     "output_type": "stream",
     "text": [
      "QDA 0.4980946853105237 \t\n",
      "LDAstar==================== 2020-10-15 11:07:44.519926\n"
     ]
    },
    {
     "name": "stderr",
     "output_type": "stream",
     "text": [
      "c:\\cx\\python\\python36\\installthere\\lib\\site-packages\\sklearn\\metrics\\_ranking.py:805: UndefinedMetricWarning: No negative samples in y_true, false positive value should be meaningless\n",
      "  UndefinedMetricWarning)\n",
      "c:\\cx\\python\\python36\\installthere\\lib\\site-packages\\sklearn\\metrics\\_ranking.py:89: RuntimeWarning: invalid value encountered in less\n",
      "  if np.any(dx < 0):\n"
     ]
    },
    {
     "name": "stdout",
     "output_type": "stream",
     "text": [
      "LDA 0.5697134044532908 \t\n",
      "MLPstar==================== 2020-10-15 11:07:59.902227\n"
     ]
    },
    {
     "name": "stderr",
     "output_type": "stream",
     "text": [
      "c:\\cx\\python\\python36\\installthere\\lib\\site-packages\\sklearn\\metrics\\_ranking.py:805: UndefinedMetricWarning: No negative samples in y_true, false positive value should be meaningless\n",
      "  UndefinedMetricWarning)\n",
      "c:\\cx\\python\\python36\\installthere\\lib\\site-packages\\sklearn\\metrics\\_ranking.py:89: RuntimeWarning: invalid value encountered in less\n",
      "  if np.any(dx < 0):\n"
     ]
    },
    {
     "name": "stdout",
     "output_type": "stream",
     "text": [
      "MLP 0.5735665386218267 \t\n",
      "XGBstar==================== 2020-10-15 11:10:23.989704\n",
      "XGB 0.5477947489652832 \t\n"
     ]
    }
   ],
   "source": [
    "model_name = []\n",
    "model_score = []\n",
    "for name,clf in classifiers:\n",
    "    print(name+'star'+\"==\"*10,datetime.datetime.now(),)\n",
    "    score = count_fenshu(clf,x_train,y_train,x_test,y_test,valid)\n",
    "    model_name.append(name)\n",
    "    model_score.append(score)\n",
    "    print(name,score,'\\t')"
   ]
  },
  {
   "cell_type": "code",
   "execution_count": 11,
   "metadata": {},
   "outputs": [
    {
     "name": "stdout",
     "output_type": "stream",
     "text": [
      "Logistic Regression   0.5711924910002021\n",
      "Decision Tree         0.5479067773157106\n",
      "Random Forest         0.5688595883263098\n",
      "AdaBoost              0.569437089278744\n",
      "Extra Trees           0.542898348685054\n",
      "GradientBoosting      0.5350407629651946\n",
      "Bagging               0.5453630349454227\n",
      "Naive Bayes           0.5639029019386566\n",
      "QDA                   0.4980946853105237\n",
      "LDA                   0.5697134044532908\n",
      "MLP                   0.5735665386218267\n",
      "XGB                   0.5477947489652832\n"
     ]
    }
   ],
   "source": [
    "for a,b in zip(model_name,model_score):\n",
    "    print('{0:22}{1:8}'.format(a,b))"
   ]
  },
  {
   "cell_type": "markdown",
   "metadata": {},
   "source": [
    "# 提交"
   ]
  },
  {
   "cell_type": "code",
   "execution_count": 32,
   "metadata": {},
   "outputs": [],
   "source": [
    "final_model = MLPClassifier(alpha=1)\n",
    "final_model.fit(x_train, y_train)\n",
    "last_features = pp.get_last_features(weekdaycols)\n",
    "y_test_pred = final_model.predict_proba(dftest[last_features])\n",
    "dftest1 = dftest[['User_id','Coupon_id','Date_received']].copy()\n",
    "dftest1['label'] = y_test_pred[:,1]\n",
    "dftest1.to_csv('submit_mlp_1.csv', index=False, header=False)"
   ]
  },
  {
   "cell_type": "code",
   "execution_count": 20,
   "metadata": {},
   "outputs": [],
   "source": [
    "last_features = pp.get_last_features(weekdaycols)\n",
    "dfoff = dfoff[dfoff['label'] != -1].copy()\n",
    "\n",
    "final_model = MLPClassifier(alpha=1)\n",
    "final_model.fit(dfoff[last_features], dfoff.label)\n",
    "y_test_pred = final_model.predict_proba(dftest[last_features])\n",
    "dftest1 = dftest[['User_id','Coupon_id','Date_received']].copy()\n",
    "dftest1['label'] = y_test_pred[:,1]\n",
    "dftest1.to_csv('submit_xgb_mlp_2.csv', index=False, header=False)"
   ]
  }
 ],
 "metadata": {
  "kernelspec": {
   "display_name": "Python 3",
   "language": "python",
   "name": "python3"
  },
  "language_info": {
   "codemirror_mode": {
    "name": "ipython",
    "version": 3
   },
   "file_extension": ".py",
   "mimetype": "text/x-python",
   "name": "python",
   "nbconvert_exporter": "python",
   "pygments_lexer": "ipython3",
   "version": "3.6.8"
  }
 },
 "nbformat": 4,
 "nbformat_minor": 2
}
