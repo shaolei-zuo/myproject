{
 "cells": [
  {
   "cell_type": "markdown",
   "metadata": {},
   "source": [
    "https://tianchi.aliyun.com/competition/entrance/231593/information"
   ]
  },
  {
   "cell_type": "code",
   "execution_count": 1,
   "metadata": {},
   "outputs": [],
   "source": [
    "import pandas as pd\n",
    "import numpy as np"
   ]
  },
  {
   "cell_type": "code",
   "execution_count": 2,
   "metadata": {},
   "outputs": [],
   "source": [
    "dfoff = pd.read_csv('./data/ccf_offline_stage1_train.csv')\n",
    "dftest = pd.read_csv('./data/ccf_offline_stage1_test_revised.csv')\n",
    "dfon = pd.read_csv('./data/ccf_online_stage1_train.csv')\n",
    "\n",
    "dfsub = pd.DataFrame({'User_id':'用户ID',\n",
    "                      'Coupon_id':'优惠券ID',\n",
    "                      'Date_received':'领取优惠券日期',\n",
    "                      'Probability':'预测值'},index=[1])"
   ]
  },
  {
   "cell_type": "code",
   "execution_count": 4,
   "metadata": {},
   "outputs": [
    {
     "name": "stdout",
     "output_type": "stream",
     "text": [
      "====================================================================================================\n",
      "   User_id  Merchant_id  Coupon_id Discount_rate  Distance  Date_received  \\\n",
      "0  1439408         2632        NaN           NaN       0.0            NaN   \n",
      "1  1439408         4663    11002.0        150:20       1.0     20160528.0   \n",
      "\n",
      "         Date  \n",
      "0  20160217.0  \n",
      "1         NaN  \n",
      "====================================================================================================\n",
      "    User_id  Merchant_id  Action  Coupon_id Discount_rate  Date_received  \\\n",
      "0  13740231        18907       2  100017492        500:50     20160513.0   \n",
      "1  13740231        34805       1        NaN           NaN            NaN   \n",
      "\n",
      "         Date  \n",
      "0         NaN  \n",
      "1  20160321.0  \n",
      "====================================================================================================\n",
      "   User_id  Merchant_id  Coupon_id Discount_rate  Distance  Date_received\n",
      "0  4129537          450       9983          30:5       1.0       20160712\n",
      "1  6949378         1300       3429          30:5       NaN       20160706\n"
     ]
    }
   ],
   "source": [
    "for i in [dfoff,dfon,dftest]:\n",
    "    print(\"==\"*50)\n",
    "    print(i.head(2))"
   ]
  },
  {
   "cell_type": "markdown",
   "metadata": {},
   "source": [
    "# 理解一下题意"
   ]
  },
  {
   "cell_type": "markdown",
   "metadata": {},
   "source": [
    "测试集(dftest)列如下，意思是，用户已经，在某个日期，拿到了商家的某个优惠券（线上还是线下不清楚，但是这里可以理解为，拿和用没有细分了）  \n",
    "提交结果(dfsub)如下，预测上表中的用户，在领取优惠券15天内，使用优惠券的概率"
   ]
  },
  {
   "cell_type": "code",
   "execution_count": 4,
   "metadata": {},
   "outputs": [
    {
     "data": {
      "text/html": [
       "<div>\n",
       "<style scoped>\n",
       "    .dataframe tbody tr th:only-of-type {\n",
       "        vertical-align: middle;\n",
       "    }\n",
       "\n",
       "    .dataframe tbody tr th {\n",
       "        vertical-align: top;\n",
       "    }\n",
       "\n",
       "    .dataframe thead th {\n",
       "        text-align: right;\n",
       "    }\n",
       "</style>\n",
       "<table border=\"1\" class=\"dataframe\">\n",
       "  <thead>\n",
       "    <tr style=\"text-align: right;\">\n",
       "      <th></th>\n",
       "      <th>User_id</th>\n",
       "      <th>Coupon_id</th>\n",
       "      <th>Date_received</th>\n",
       "      <th>Probability</th>\n",
       "    </tr>\n",
       "  </thead>\n",
       "  <tbody>\n",
       "    <tr>\n",
       "      <th>1</th>\n",
       "      <td>用户ID</td>\n",
       "      <td>优惠券ID</td>\n",
       "      <td>领取优惠券日期</td>\n",
       "      <td>预测值</td>\n",
       "    </tr>\n",
       "  </tbody>\n",
       "</table>\n",
       "</div>"
      ],
      "text/plain": [
       "  User_id Coupon_id Date_received Probability\n",
       "1    用户ID     优惠券ID       领取优惠券日期         预测值"
      ]
     },
     "execution_count": 4,
     "metadata": {},
     "output_type": "execute_result"
    }
   ],
   "source": [
    "dfsub.head(1)"
   ]
  },
  {
   "cell_type": "code",
   "execution_count": 5,
   "metadata": {},
   "outputs": [
    {
     "data": {
      "text/html": [
       "<div>\n",
       "<style scoped>\n",
       "    .dataframe tbody tr th:only-of-type {\n",
       "        vertical-align: middle;\n",
       "    }\n",
       "\n",
       "    .dataframe tbody tr th {\n",
       "        vertical-align: top;\n",
       "    }\n",
       "\n",
       "    .dataframe thead th {\n",
       "        text-align: right;\n",
       "    }\n",
       "</style>\n",
       "<table border=\"1\" class=\"dataframe\">\n",
       "  <thead>\n",
       "    <tr style=\"text-align: right;\">\n",
       "      <th></th>\n",
       "      <th>User_id</th>\n",
       "      <th>Merchant_id</th>\n",
       "      <th>Coupon_id</th>\n",
       "      <th>Discount_rate</th>\n",
       "      <th>Distance</th>\n",
       "      <th>Date_received</th>\n",
       "    </tr>\n",
       "  </thead>\n",
       "  <tbody>\n",
       "    <tr>\n",
       "      <th>0</th>\n",
       "      <td>4129537</td>\n",
       "      <td>450</td>\n",
       "      <td>9983</td>\n",
       "      <td>30:5</td>\n",
       "      <td>1.0</td>\n",
       "      <td>20160712</td>\n",
       "    </tr>\n",
       "  </tbody>\n",
       "</table>\n",
       "</div>"
      ],
      "text/plain": [
       "   User_id  Merchant_id  Coupon_id Discount_rate  Distance  Date_received\n",
       "0  4129537          450       9983          30:5       1.0       20160712"
      ]
     },
     "execution_count": 5,
     "metadata": {},
     "output_type": "execute_result"
    }
   ],
   "source": [
    "dftest.head(1)"
   ]
  },
  {
   "cell_type": "markdown",
   "metadata": {},
   "source": [
    "# AUC到底怎么算"
   ]
  },
  {
   "cell_type": "markdown",
   "metadata": {},
   "source": [
    "1、每个优惠券ID都算一次，最后取平均  \n",
    "2、样本全为0，pass,也不计入最后的平均  \n",
    "3、见evaluation  "
   ]
  },
  {
   "cell_type": "markdown",
   "metadata": {},
   "source": [
    "# 理解一下数据集"
   ]
  },
  {
   "cell_type": "markdown",
   "metadata": {},
   "source": [
    "要么拿了券，要么有购买行为。没有不拿券也不消费的。\n",
    "\n",
    "线下没有fixed,也就是打折行为，营销方式只有优惠券一种\n",
    "\n",
    "无论线上还是线下，拿券消费是最少的\n",
    "\n",
    "线上，1%打折下单、1%优惠券下单，92%直接消费，6%拿券但是不消费。  \n",
    "也就是说线上拿券的人占7%，但是线上核销的只有1%  \n",
    "\n",
    "线下，很明显就是官方说的偏采样了，60%的人拿了券，但是只有4%核销，实际上拿券消费的人必然是过采样的。"
   ]
  },
  {
   "cell_type": "code",
   "execution_count": 6,
   "metadata": {},
   "outputs": [],
   "source": [
    "dfon_notfix = dfon[dfon.Coupon_id!='fixed']\n",
    "dfon_isfix = dfon[dfon.Coupon_id=='fixed']\n",
    "\n",
    "def get_cd(dfoff):\n",
    "    # 拿券，消费\n",
    "    cd1 = dfoff[(dfoff.Coupon_id.notna()) & (dfoff.Date.notna())].User_id.count()\n",
    "    # 拿券，不消费\n",
    "    cd2 = dfoff[(dfoff.Coupon_id.notna()) & (dfoff.Date.isna())].User_id.count()\n",
    "    #不拿券，消费\n",
    "    cd3 = dfoff[(dfoff.Coupon_id.isna()) & (dfoff.Date.notna())].User_id.count()\n",
    "    #不拿券，不消费\n",
    "    cd4 = dfoff[(dfoff.Coupon_id.isna()) & (dfoff.Date.isna())].User_id.count()\n",
    "    \n",
    "    for a,b in zip(['优惠券消费','直接消费','拿券不消费','不拿券也不消费'],[cd1,cd3,cd2,cd4]):\n",
    "        c = np.around(b/sum([cd1,cd2,cd3])*100)\n",
    "        print('{0:7}\\t{1:10}\\t{2:6}%'.format(a,b,c))\n",
    "        #print(a, b, )"
   ]
  },
  {
   "cell_type": "code",
   "execution_count": 7,
   "metadata": {},
   "outputs": [
    {
     "name": "stdout",
     "output_type": "stream",
     "text": [
      "==============线上========================================\n",
      "优惠券消费  \t    216459\t   2.0%\n",
      "直接消费   \t  10557469\t  92.0%\n",
      "拿券不消费  \t    655898\t   6.0%\n",
      "不拿券也不消费\t         0\t   0.0%\n",
      "None \n",
      "\n",
      "==============线上无fix========================================\n",
      "优惠券消费  \t     84913\t   1.0%\n",
      "直接消费   \t  10557469\t  93.0%\n",
      "拿券不消费  \t    655898\t   6.0%\n",
      "不拿券也不消费\t         0\t   0.0%\n",
      "None \n",
      "\n",
      "==============线上且fix========================================\n",
      "优惠券消费  \t    131546\t 100.0%\n",
      "直接消费   \t         0\t   0.0%\n",
      "拿券不消费  \t         0\t   0.0%\n",
      "不拿券也不消费\t         0\t   0.0%\n",
      "None \n",
      "\n",
      "==============线下========================================\n",
      "优惠券消费  \t     75382\t   4.0%\n",
      "直接消费   \t    701602\t  40.0%\n",
      "拿券不消费  \t    977900\t  56.0%\n",
      "不拿券也不消费\t         0\t   0.0%\n",
      "None \n",
      "\n"
     ]
    }
   ],
   "source": [
    "for i in zip([dfon,dfon_notfix,dfon_isfix,dfoff],['线上','线上无fix','线上且fix','线下']):\n",
    "    print('=='*7+i[1]+'=='*20)\n",
    "    print(get_cd(i[0]),'\\n')"
   ]
  },
  {
   "cell_type": "markdown",
   "metadata": {},
   "source": [
    "# 一些比较迷惑的地方：\n",
    "\n",
    "根据题意，线上只是作为背景参考使用，它不构成正负样本，所以线上样本的优惠券，不参与线下的活动？【很可能不参与】  \n",
    "线上的，优惠券是null但是消费了（直接消费）,一定是没有优惠券吗？会不会是商家没有发券呢？还是重复消费没有那么多优惠券呢?【假设一】    \n",
    "线下的，所有样本全部都是“有券可以拿”的吗？【同假设一，但是测试集一定是全有券】   \n",
    "o2o,线上到线下，意思是线上取优惠券，可以在线上或者线下核销,dfon的优惠券消费是全都是线下吗？【倾向于优惠券消费是线上的】  \n",
    "线下，没有fixed行为吗？【假设二】\n",
    "\n",
    "【假设一】：所有消费，哪怕没有领取，消费券也是默认用，除非没有券。也就是所有的“普通消费”，全都默认商家没有发券，也没有打折。  \n",
    "【假设二】：所有线下营销只有优惠券，没有打折行为  \n"
   ]
  },
  {
   "cell_type": "markdown",
   "metadata": {},
   "source": [
    "# 关于dfon的Action字段，当等于\n",
    "0: 点击，优惠券为null,Date全有 | 0代表没有拿优惠券，但是消费了？|就是直接消费  \n",
    "1：购买, 优惠券三种都有[null,id,fixed],Date全有 | 1代表肯定购买了，但是不一定用了消费券，    \n",
    "2: 领取优惠券，优惠券为id,Date全无 | 2代表只拿了优惠券，但是没有交易  \n",
    "\n",
    "在0和1之间，都存在优惠券为null,但是消费日期非空的样本。看了数据后并没有发现有何区别。后续可以进一步试试。"
   ]
  },
  {
   "cell_type": "code",
   "execution_count": 10,
   "metadata": {},
   "outputs": [],
   "source": [
    "# dfth = dfon[(dfon.Date.notna()) & (dfon.Coupon_id.isna())]"
   ]
  },
  {
   "cell_type": "markdown",
   "metadata": {},
   "source": [
    "# 关于两个训练集之间用户id、商家ID、优惠券id的交叉情况\n",
    "\n",
    "线上下训练集是有交叉的，商家和优惠券都没有交叉！\n",
    "\n",
    "用户： 线上4~15500000，线下4~7361032,有交集267488个  \n",
    "商家： 线上10001+，线下1+，无交集  \n",
    "优惠券:线上100000003~100233610，线下1~14045,无交集  \n",
    "\n",
    "另外，说每个优惠券id只对应一个商家id"
   ]
  },
  {
   "cell_type": "code",
   "execution_count": 64,
   "metadata": {},
   "outputs": [
    {
     "name": "stdout",
     "output_type": "stream",
     "text": [
      "\n",
      "User_id\n",
      "762858 539438 267448\n",
      "\n",
      "Merchant_id\n",
      "7999 8415 0\n",
      "\n",
      "Coupon_id\n",
      "27748 9739 0\n"
     ]
    }
   ],
   "source": [
    "def get_jbb(s1,s2):\n",
    "    print(len(s1),len(s2),len(set(s1).intersection(s2)))\n",
    "    \n",
    "id_list = ['User_id','Merchant_id','Coupon_id']\n",
    "lon = []\n",
    "loff = []\n",
    "for i in id_list:\n",
    "    lon.append(dfon[i].unique())\n",
    "    loff.append(dfoff[i].unique())\n",
    "for i,j in zip([0,1,2],id_list):\n",
    "    print('\\n'+j)\n",
    "    get_jbb(lon[i],loff[i])"
   ]
  },
  {
   "cell_type": "markdown",
   "metadata": {},
   "source": [
    "# 初步的构思\n",
    "\n",
    "1、线上数据集\n",
    "\n",
    "注意618的影响\n",
    "领取优惠券的时间接近周末？  \n",
    "领取消费券的时间接近？   \n",
    "领取优惠券的对应商家距离近？  \n",
    "领取优惠券的力度大？（门槛低，金额高）  \n",
    "领取优惠券的时间越近消费的概率越高？  \n",
    "领取消费券的时间，靠近放假时间？  \n",
    "领取优惠券越多，核销的概率越大？  \n",
    "不同折扣，不同优惠方式 ，哪种核销概率高？\n",
    "领取到核销的时间特征  \n",
    "领券时间和用券消费的时间间隔有什么特征，为什么预测的是“15天”\n",
    "\n",
    "人本身消费属性？（RFM，结合线上数据来定义消费者属性）  \n",
    "人和固定商家有消费关系？(喜欢这个商家)  \n",
    "线下偏好、线上偏好  \n",
    "被营销偏好  \n",
    "优惠券id,不同人，有一样的吗？\n",
    "\n",
    "商品本身费用高？  \n",
    "商品本身消费的人群就少？  \n",
    "商家品质不咋地，或者本身不善于这种营销？（过往成绩就不好）  \n",
    "\n",
    "\n",
    "线上优惠券消费，和线下优惠券核销，可能不是一种消费习惯，需要鉴别"
   ]
  },
  {
   "cell_type": "code",
   "execution_count": null,
   "metadata": {},
   "outputs": [],
   "source": []
  },
  {
   "cell_type": "code",
   "execution_count": null,
   "metadata": {},
   "outputs": [],
   "source": []
  },
  {
   "cell_type": "code",
   "execution_count": null,
   "metadata": {},
   "outputs": [],
   "source": []
  },
  {
   "cell_type": "code",
   "execution_count": null,
   "metadata": {},
   "outputs": [],
   "source": []
  },
  {
   "cell_type": "code",
   "execution_count": null,
   "metadata": {},
   "outputs": [],
   "source": []
  },
  {
   "cell_type": "code",
   "execution_count": null,
   "metadata": {},
   "outputs": [],
   "source": []
  },
  {
   "cell_type": "code",
   "execution_count": null,
   "metadata": {},
   "outputs": [],
   "source": []
  },
  {
   "cell_type": "code",
   "execution_count": null,
   "metadata": {},
   "outputs": [],
   "source": []
  },
  {
   "cell_type": "code",
   "execution_count": null,
   "metadata": {},
   "outputs": [],
   "source": []
  }
 ],
 "metadata": {
  "kernelspec": {
   "display_name": "Python 3",
   "language": "python",
   "name": "python3"
  },
  "language_info": {
   "codemirror_mode": {
    "name": "ipython",
    "version": 3
   },
   "file_extension": ".py",
   "mimetype": "text/x-python",
   "name": "python",
   "nbconvert_exporter": "python",
   "pygments_lexer": "ipython3",
   "version": "3.6.8"
  }
 },
 "nbformat": 4,
 "nbformat_minor": 2
}
