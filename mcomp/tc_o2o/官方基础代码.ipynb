{
 "cells": [
  {
   "cell_type": "code",
   "execution_count": 1,
   "metadata": {},
   "outputs": [],
   "source": [
    "# * 赛题介绍：本赛题目标是预测投放的优惠券是否核销。\n",
    "# * 数据分析: 其中包含一些常见的数据处理，比如str to numeric。\n",
    "# * 特征工程: 主要是简单的提取了折扣相关信息和时间信息。\n",
    "# * 模型建立: 简单的线性模型。"
   ]
  },
  {
   "cell_type": "code",
   "execution_count": 2,
   "metadata": {},
   "outputs": [
    {
     "name": "stdout",
     "output_type": "stream",
     "text": [
      "data read end.\n"
     ]
    }
   ],
   "source": [
    "import os, sys, pickle\n",
    "import numpy as np\n",
    "import pandas as pd\n",
    "import matplotlib.pyplot as plt\n",
    "from datetime import date\n",
    "from sklearn.linear_model import SGDClassifier, LogisticRegression\n",
    "\n",
    "dfoff = pd.read_csv('./data/ccf_offline_stage1_train.csv')\n",
    "dftest = pd.read_csv('./data/ccf_offline_stage1_test_revised.csv')\n",
    "dfon = pd.read_csv('./data/ccf_online_stage1_train.csv')\n",
    "print('data read end.')"
   ]
  },
  {
   "cell_type": "code",
   "execution_count": 3,
   "metadata": {},
   "outputs": [
    {
     "name": "stdout",
     "output_type": "stream",
     "text": [
      "====================================================================================================\n",
      "   User_id  Merchant_id  Coupon_id Discount_rate  Distance  Date_received  \\\n",
      "0  1439408         2632        NaN           NaN       0.0            NaN   \n",
      "1  1439408         4663    11002.0        150:20       1.0     20160528.0   \n",
      "2  1439408         2632     8591.0          20:1       0.0     20160217.0   \n",
      "3  1439408         2632     1078.0          20:1       0.0     20160319.0   \n",
      "4  1439408         2632     8591.0          20:1       0.0     20160613.0   \n",
      "\n",
      "         Date  \n",
      "0  20160217.0  \n",
      "1         NaN  \n",
      "2         NaN  \n",
      "3         NaN  \n",
      "4         NaN  \n",
      "====================================================================================================\n",
      "    User_id  Merchant_id  Action  Coupon_id Discount_rate  Date_received  \\\n",
      "0  13740231        18907       2  100017492        500:50     20160513.0   \n",
      "1  13740231        34805       1        NaN           NaN            NaN   \n",
      "2  14336199        18907       0        NaN           NaN            NaN   \n",
      "3  14336199        18907       0        NaN           NaN            NaN   \n",
      "4  14336199        18907       0        NaN           NaN            NaN   \n",
      "\n",
      "         Date  \n",
      "0         NaN  \n",
      "1  20160321.0  \n",
      "2  20160618.0  \n",
      "3  20160618.0  \n",
      "4  20160618.0  \n",
      "====================================================================================================\n",
      "   User_id  Merchant_id  Coupon_id Discount_rate  Distance  Date_received\n",
      "0  4129537          450       9983          30:5       1.0       20160712\n",
      "1  6949378         1300       3429          30:5       NaN       20160706\n",
      "2  2166529         7113       6928        200:20       5.0       20160727\n",
      "3  2166529         7113       1808        100:10       5.0       20160727\n",
      "4  6172162         7605       6500          30:1       2.0       20160708\n"
     ]
    }
   ],
   "source": [
    "for i in [dfoff,dfon,dftest]:\n",
    "    print(\"==\"*50)\n",
    "    print(i.head())"
   ]
  },
  {
   "cell_type": "code",
   "execution_count": 4,
   "metadata": {},
   "outputs": [
    {
     "name": "stdout",
     "output_type": "stream",
     "text": [
      "tool is ok.\n"
     ]
    }
   ],
   "source": [
    "# 1. 将满xx减yy类型(`xx:yy`)的券变成折扣率 : `1 - yy/xx`，同时建立折扣券相关的特征 `discount_rate, discount_man, discount_jian, discount_type`\n",
    "# 2. 将距离 `str` 转为 `int`\n",
    "# convert Discount_rate and Distance\n",
    "def getDiscountType(row):\n",
    "    if pd.isnull(row):\n",
    "        return np.nan\n",
    "    elif ':' in row:\n",
    "        return 1\n",
    "    else:\n",
    "        return 0\n",
    "\n",
    "def convertRate(row):\n",
    "    \"\"\"Convert discount to rate\"\"\"\n",
    "    if pd.isnull(row):\n",
    "        return 1.0\n",
    "    elif ':' in str(row):\n",
    "        rows = row.split(':')\n",
    "        return 1.0 - float(rows[1])/float(rows[0])\n",
    "    else:\n",
    "        return float(row)\n",
    "\n",
    "def getDiscountMan(row):\n",
    "    if ':' in str(row):\n",
    "        rows = row.split(':')\n",
    "        return int(rows[0])\n",
    "    else:\n",
    "        return 0\n",
    "\n",
    "def getDiscountJian(row):\n",
    "    if ':' in str(row):\n",
    "        rows = row.split(':')\n",
    "        return int(rows[1])\n",
    "    else:\n",
    "        return 0\n",
    "print(\"tool is ok.\")"
   ]
  },
  {
   "cell_type": "code",
   "execution_count": 5,
   "metadata": {},
   "outputs": [
    {
     "name": "stdout",
     "output_type": "stream",
     "text": [
      "[1.         0.86666667 0.95       0.9        0.83333333 0.8\n",
      " 0.5        0.85       0.75       0.66666667 0.93333333 0.7\n",
      " 0.6        0.96666667 0.98       0.99       0.975      0.33333333\n",
      " 0.2        0.4       ]\n",
      "[0.83333333 0.9        0.96666667 0.8        0.95       0.75\n",
      " 0.98       0.5        0.86666667 0.6        0.66666667 0.7\n",
      " 0.85       0.33333333 0.94       0.93333333 0.975      0.99      ]\n",
      "end\n"
     ]
    }
   ],
   "source": [
    "def processData(df):\n",
    "    # convert discunt_rate\n",
    "    df['discount_rate'] = df['Discount_rate'].apply(convertRate)\n",
    "    df['discount_man'] = df['Discount_rate'].apply(getDiscountMan)\n",
    "    df['discount_jian'] = df['Discount_rate'].apply(getDiscountJian)\n",
    "    df['discount_type'] = df['Discount_rate'].apply(getDiscountType)\n",
    "    print(df['discount_rate'].unique())\n",
    "    # convert distance\n",
    "    df['distance'] = df['Distance'].fillna(-1).astype(int)\n",
    "    return df\n",
    "\n",
    "dfoff = processData(dfoff)\n",
    "dftest = processData(dftest)\n",
    "\n",
    "date_received = dfoff['Date_received'].unique()\n",
    "date_received = sorted(date_received[pd.notnull(date_received)])\n",
    "\n",
    "date_buy = dfoff['Date'].unique()\n",
    "date_buy = sorted(date_buy[pd.notnull(date_buy)])\n",
    "date_buy = sorted(dfoff[dfoff['Date'].notnull()]['Date'])\n",
    "couponbydate = dfoff[dfoff['Date_received'].notnull()][['Date_received', 'Date']].groupby(['Date_received'], as_index=False).count()\n",
    "couponbydate.columns = ['Date_received','count']\n",
    "buybydate = dfoff[(dfoff['Date'].notnull()) & (dfoff['Date_received'].notnull())][['Date_received', 'Date']].groupby(['Date_received'], as_index=False).count()\n",
    "buybydate.columns = ['Date_received','count']\n",
    "\n",
    "print(\"end\")"
   ]
  },
  {
   "cell_type": "code",
   "execution_count": 7,
   "metadata": {},
   "outputs": [
    {
     "name": "stdout",
     "output_type": "stream",
     "text": [
      "end\n"
     ]
    }
   ],
   "source": [
    "def getWeekday(row):\n",
    "    if row == 'nan':\n",
    "        return np.nan\n",
    "    else:\n",
    "        return date(int(row[0:4]), int(row[4:6]), int(row[6:8])).weekday() + 1\n",
    "\n",
    "dfoff['weekday'] = dfoff['Date_received'].astype(str).apply(getWeekday)\n",
    "dftest['weekday'] = dftest['Date_received'].astype(str).apply(getWeekday)\n",
    "\n",
    "# weekday_type :  周六和周日为1，其他为0\n",
    "dfoff['weekday_type'] = dfoff['weekday'].apply(lambda x : 1 if x in [6,7] else 0 )\n",
    "dftest['weekday_type'] = dftest['weekday'].apply(lambda x : 1 if x in [6,7] else 0 )\n",
    "\n",
    "# change weekday to one-hot encoding \n",
    "weekdaycols = ['weekday_' + str(i) for i in range(1,8)]\n",
    "tmpdf = pd.get_dummies(dfoff['weekday'].replace('nan', np.nan))\n",
    "tmpdf.columns = weekdaycols\n",
    "dfoff[weekdaycols] = tmpdf\n",
    "\n",
    "tmpdf = pd.get_dummies(dftest['weekday'].replace('nan', np.nan))\n",
    "tmpdf.columns = weekdaycols\n",
    "dftest[weekdaycols] = tmpdf\n",
    "\n",
    "\n",
    "def label(row):\n",
    "    if pd.isnull(row['Date_received']):\n",
    "        return -1\n",
    "    if pd.notnull(row['Date']):\n",
    "        td = pd.to_datetime(row['Date'], format='%Y%m%d') -  pd.to_datetime(row['Date_received'], format='%Y%m%d')\n",
    "        if td <= pd.Timedelta(15, 'D'):\n",
    "            return 1\n",
    "    return 0\n",
    "dfoff['label'] = dfoff.apply(label, axis = 1)\n",
    "\n",
    "print(\"end\")"
   ]
  },
  {
   "cell_type": "code",
   "execution_count": 10,
   "metadata": {},
   "outputs": [
    {
     "name": "stdout",
     "output_type": "stream",
     "text": [
      "-----data split------\n",
      "end\n"
     ]
    }
   ],
   "source": [
    "# data split\n",
    "print(\"-----data split------\")\n",
    "df = dfoff[dfoff['label'] != -1].copy()\n",
    "train = df[(df['Date_received'] < 20160516)].copy()\n",
    "valid = df[(df['Date_received'] >= 20160516) & (df['Date_received'] <= 20160615)].copy()\n",
    "print(\"end\")"
   ]
  },
  {
   "cell_type": "code",
   "execution_count": 11,
   "metadata": {},
   "outputs": [
    {
     "name": "stdout",
     "output_type": "stream",
     "text": [
      "----train-----\n"
     ]
    },
    {
     "data": {
      "text/plain": [
       "SGDClassifier(alpha=0.01, l1_ratio=0.01, loss='log', max_iter=100, n_jobs=1,\n",
       "              penalty='elasticnet')"
      ]
     },
     "execution_count": 11,
     "metadata": {},
     "output_type": "execute_result"
    }
   ],
   "source": [
    "# feature\n",
    "original_feature = ['discount_rate','discount_type','discount_man', 'discount_jian','distance', 'weekday', 'weekday_type'] + weekdaycols\n",
    "print(\"----train-----\")\n",
    "model = SGDClassifier(#lambda:\n",
    "    loss='log',\n",
    "    penalty='elasticnet',\n",
    "    fit_intercept=True,\n",
    "    max_iter=100,\n",
    "    shuffle=True,\n",
    "    alpha = 0.01,\n",
    "    l1_ratio = 0.01,\n",
    "    n_jobs=1,\n",
    "    class_weight=None\n",
    ")\n",
    "model.fit(train[original_feature], train['label'])"
   ]
  },
  {
   "cell_type": "code",
   "execution_count": 8,
   "metadata": {},
   "outputs": [
    {
     "name": "stdout",
     "output_type": "stream",
     "text": [
      "0.9094526220772331\n"
     ]
    }
   ],
   "source": [
    "# #### 预测以及结果评价\n",
    "print(model.score(valid[original_feature], valid['label']))"
   ]
  },
  {
   "cell_type": "code",
   "execution_count": 9,
   "metadata": {},
   "outputs": [
    {
     "name": "stdout",
     "output_type": "stream",
     "text": [
      "---save model---\n"
     ]
    }
   ],
   "source": [
    "print(\"---save model---\")\n",
    "with open('1_model.pkl', 'wb') as f:\n",
    "    pickle.dump(model, f)\n",
    "with open('1_model.pkl', 'rb') as f:\n",
    "    model = pickle.load(f)"
   ]
  },
  {
   "cell_type": "code",
   "execution_count": 10,
   "metadata": {},
   "outputs": [
    {
     "data": {
      "text/html": [
       "<div>\n",
       "<style scoped>\n",
       "    .dataframe tbody tr th:only-of-type {\n",
       "        vertical-align: middle;\n",
       "    }\n",
       "\n",
       "    .dataframe tbody tr th {\n",
       "        vertical-align: top;\n",
       "    }\n",
       "\n",
       "    .dataframe thead th {\n",
       "        text-align: right;\n",
       "    }\n",
       "</style>\n",
       "<table border=\"1\" class=\"dataframe\">\n",
       "  <thead>\n",
       "    <tr style=\"text-align: right;\">\n",
       "      <th></th>\n",
       "      <th>User_id</th>\n",
       "      <th>Coupon_id</th>\n",
       "      <th>Date_received</th>\n",
       "      <th>label</th>\n",
       "    </tr>\n",
       "  </thead>\n",
       "  <tbody>\n",
       "    <tr>\n",
       "      <th>0</th>\n",
       "      <td>4129537</td>\n",
       "      <td>9983</td>\n",
       "      <td>20160712</td>\n",
       "      <td>0.097425</td>\n",
       "    </tr>\n",
       "    <tr>\n",
       "      <th>1</th>\n",
       "      <td>6949378</td>\n",
       "      <td>3429</td>\n",
       "      <td>20160706</td>\n",
       "      <td>0.139182</td>\n",
       "    </tr>\n",
       "    <tr>\n",
       "      <th>2</th>\n",
       "      <td>2166529</td>\n",
       "      <td>6928</td>\n",
       "      <td>20160727</td>\n",
       "      <td>0.002103</td>\n",
       "    </tr>\n",
       "    <tr>\n",
       "      <th>3</th>\n",
       "      <td>2166529</td>\n",
       "      <td>1808</td>\n",
       "      <td>20160727</td>\n",
       "      <td>0.011903</td>\n",
       "    </tr>\n",
       "    <tr>\n",
       "      <th>4</th>\n",
       "      <td>6172162</td>\n",
       "      <td>6500</td>\n",
       "      <td>20160708</td>\n",
       "      <td>0.067604</td>\n",
       "    </tr>\n",
       "  </tbody>\n",
       "</table>\n",
       "</div>"
      ],
      "text/plain": [
       "   User_id  Coupon_id  Date_received     label\n",
       "0  4129537       9983       20160712  0.097425\n",
       "1  6949378       3429       20160706  0.139182\n",
       "2  2166529       6928       20160727  0.002103\n",
       "3  2166529       1808       20160727  0.011903\n",
       "4  6172162       6500       20160708  0.067604"
      ]
     },
     "execution_count": 10,
     "metadata": {},
     "output_type": "execute_result"
    }
   ],
   "source": [
    "# test prediction for submission\n",
    "y_test_pred = model.predict_proba(dftest[original_feature])\n",
    "dftest1 = dftest[['User_id','Coupon_id','Date_received']].copy()\n",
    "dftest1['label'] = y_test_pred[:,1]\n",
    "dftest1.to_csv('submit1.csv', index=False, header=False)\n",
    "dftest1.head()"
   ]
  },
  {
   "cell_type": "code",
   "execution_count": null,
   "metadata": {},
   "outputs": [],
   "source": []
  },
  {
   "cell_type": "code",
   "execution_count": null,
   "metadata": {},
   "outputs": [],
   "source": []
  },
  {
   "cell_type": "code",
   "execution_count": null,
   "metadata": {},
   "outputs": [],
   "source": []
  },
  {
   "cell_type": "code",
   "execution_count": null,
   "metadata": {},
   "outputs": [],
   "source": []
  }
 ],
 "metadata": {
  "kernelspec": {
   "display_name": "Python 3",
   "language": "python",
   "name": "python3"
  },
  "language_info": {
   "codemirror_mode": {
    "name": "ipython",
    "version": 3
   },
   "file_extension": ".py",
   "mimetype": "text/x-python",
   "name": "python",
   "nbconvert_exporter": "python",
   "pygments_lexer": "ipython3",
   "version": "3.6.8"
  }
 },
 "nbformat": 4,
 "nbformat_minor": 2
}
