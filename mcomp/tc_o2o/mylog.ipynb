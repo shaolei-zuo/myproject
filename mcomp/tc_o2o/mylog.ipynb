{
 "cells": [
  {
   "cell_type": "markdown",
   "metadata": {},
   "source": [
    "# 2020 10 14  \n",
    "\n",
    "## 遗留\n",
    "> 原因还是没有搞清楚  \n",
    "用新nf1计算后，发现还真是泄露引起的。\n",
    "\n",
    "\n",
    "##  想法与计划 \n",
    ">也许噪音太多了？可以用单个特征分别试试？  \n",
    "\n",
    ">计划加入3个部分  \n",
    "1、一个专门变化和组合特征的，他配备一个能输出很多模型初步分数的测试函数  \n",
    "2、一个专门用来调参的，  \n",
    "3、一个专门用来输出结果的，这个主要是指输出不同模型或者模型融合后的submits.  \n",
    "\n",
    "##  记录  \n",
    ">将dfoff按照时间分割测试训练集单独拎成函数  \n",
    "先分割训练测试集再计算nf1以避免泄露【有效】\n",
    "\n",
    "\n",
    "---\n",
    "    "
   ]
  },
  {
   "cell_type": "markdown",
   "metadata": {},
   "source": [
    "# 2020 10 13  \n",
    "## 记录\n",
    ">新增了nf1特征，测试集成绩从0.55上升到了0.8，但是上传结果只上升到了0.57  \n",
    "需要查清楚原因，可能如下  \n",
    "- nf1结果泄露\n",
    "- 两个数据集特征不一样\n",
    "- 个人的auc计算方法有误\n",
    "\n",
    "---"
   ]
  },
  {
   "cell_type": "code",
   "execution_count": null,
   "metadata": {},
   "outputs": [],
   "source": []
  }
 ],
 "metadata": {
  "kernelspec": {
   "display_name": "Python 3",
   "language": "python",
   "name": "python3"
  },
  "language_info": {
   "codemirror_mode": {
    "name": "ipython",
    "version": 3
   },
   "file_extension": ".py",
   "mimetype": "text/x-python",
   "name": "python",
   "nbconvert_exporter": "python",
   "pygments_lexer": "ipython3",
   "version": "3.6.8"
  }
 },
 "nbformat": 4,
 "nbformat_minor": 2
}
