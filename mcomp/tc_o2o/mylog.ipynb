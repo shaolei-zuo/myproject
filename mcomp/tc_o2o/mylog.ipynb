{
 "cells": [
  {
   "cell_type": "markdown",
   "metadata": {},
   "source": [
    "2020 10 13  \n",
    "新增了nf1特征，测试集成绩从0.55上升到了0.8，但是上传结果只上升到了0.57\n",
    "\n",
    "需要查清楚原因，可能如下  \n",
    "- nf1结果泄露\n",
    "- 两个数据集特征不一样\n",
    "- 个人的auc计算方法有误\n",
    "\n",
    "---"
   ]
  },
  {
   "cell_type": "code",
   "execution_count": null,
   "metadata": {},
   "outputs": [],
   "source": []
  }
 ],
 "metadata": {
  "kernelspec": {
   "display_name": "Python 3",
   "language": "python",
   "name": "python3"
  },
  "language_info": {
   "codemirror_mode": {
    "name": "ipython",
    "version": 3
   },
   "file_extension": ".py",
   "mimetype": "text/x-python",
   "name": "python",
   "nbconvert_exporter": "python",
   "pygments_lexer": "ipython3",
   "version": "3.6.8"
  }
 },
 "nbformat": 4,
 "nbformat_minor": 2
}
