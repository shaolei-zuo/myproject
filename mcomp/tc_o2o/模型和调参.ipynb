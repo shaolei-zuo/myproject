{
 "cells": [
  {
   "cell_type": "code",
   "execution_count": 41,
   "metadata": {},
   "outputs": [],
   "source": [
    "import sys\n",
    "sys.path.append('./app/')\n",
    "import numpy as np\n",
    "import fileio\n",
    "import evaluation\n",
    "import preprocess\n",
    "import matplotlib.pyplot as plt\n",
    "import pandas as pd"
   ]
  },
  {
   "cell_type": "code",
   "execution_count": 7,
   "metadata": {},
   "outputs": [],
   "source": [
    "dfoff ,dftest,dfon = fileio.read_all('./data/')"
   ]
  },
  {
   "cell_type": "code",
   "execution_count": 8,
   "metadata": {
    "collapsed": true
   },
   "outputs": [
    {
     "ename": "ValueError",
     "evalue": "too many values to unpack (expected 4)",
     "output_type": "error",
     "traceback": [
      "\u001b[1;31m---------------------------------------------------------------------------\u001b[0m",
      "\u001b[1;31mValueError\u001b[0m                                Traceback (most recent call last)",
      "\u001b[1;32m<ipython-input-8-ea9367f08694>\u001b[0m in \u001b[0;36m<module>\u001b[1;34m\u001b[0m\n\u001b[0;32m      3\u001b[0m \u001b[0mdftest\u001b[0m\u001b[1;33m,\u001b[0m\u001b[0mweekdaycols\u001b[0m \u001b[1;33m=\u001b[0m \u001b[0mpreprocess\u001b[0m\u001b[1;33m.\u001b[0m\u001b[0mpreprocess\u001b[0m\u001b[1;33m(\u001b[0m\u001b[0mdftest\u001b[0m\u001b[1;33m)\u001b[0m\u001b[1;33m\u001b[0m\u001b[1;33m\u001b[0m\u001b[0m\n\u001b[0;32m      4\u001b[0m \u001b[1;31m# 分割测试子集和训练子集\u001b[0m\u001b[1;33m\u001b[0m\u001b[1;33m\u001b[0m\u001b[1;33m\u001b[0m\u001b[0m\n\u001b[1;32m----> 5\u001b[1;33m \u001b[0mx_train\u001b[0m\u001b[1;33m,\u001b[0m\u001b[0my_train\u001b[0m\u001b[1;33m,\u001b[0m\u001b[0mx_test\u001b[0m\u001b[1;33m,\u001b[0m\u001b[0my_test\u001b[0m \u001b[1;33m=\u001b[0m \u001b[0mpreprocess\u001b[0m\u001b[1;33m.\u001b[0m\u001b[0msplit_t_v\u001b[0m\u001b[1;33m(\u001b[0m\u001b[0mdfoff\u001b[0m\u001b[1;33m,\u001b[0m\u001b[0mweekdaycols\u001b[0m\u001b[1;33m)\u001b[0m\u001b[1;33m\u001b[0m\u001b[1;33m\u001b[0m\u001b[0m\n\u001b[0m",
      "\u001b[1;31mValueError\u001b[0m: too many values to unpack (expected 4)"
     ]
    }
   ],
   "source": [
    "# 预处理，部分特征处理\n",
    "dfoff,weekdaycols = preprocess.preprocess(dfoff)\n",
    "dftest,weekdaycols = preprocess.preprocess(dftest)\n",
    "# 分割测试子集和训练子集\n",
    "x_train,y_train,x_test,y_test,train,valid = preprocess.split_t_v(dfoff,weekdaycols)"
   ]
  },
  {
   "cell_type": "code",
   "execution_count": 11,
   "metadata": {},
   "outputs": [],
   "source": [
    "#xgb 和 LGD\n",
    "import xgboost as xgb\n",
    "from sklearn.linear_model import SGDClassifier"
   ]
  },
  {
   "cell_type": "code",
   "execution_count": 13,
   "metadata": {},
   "outputs": [
    {
     "name": "stderr",
     "output_type": "stream",
     "text": [
      "c:\\cx\\python\\python36\\installthere\\lib\\site-packages\\sklearn\\metrics\\_ranking.py:805: UndefinedMetricWarning: No negative samples in y_true, false positive value should be meaningless\n",
      "  UndefinedMetricWarning)\n",
      "c:\\cx\\python\\python36\\installthere\\lib\\site-packages\\sklearn\\metrics\\_ranking.py:89: RuntimeWarning: invalid value encountered in less\n",
      "  if np.any(dx < 0):\n"
     ]
    },
    {
     "data": {
      "text/plain": [
       "0.5561952226087841"
      ]
     },
     "execution_count": 13,
     "metadata": {},
     "output_type": "execute_result"
    }
   ],
   "source": [
    "# 模型一\n",
    "model_sgd = SGDClassifier(loss='log',penalty='elasticnet',fit_intercept=True,max_iter=100,\n",
    "                      shuffle=True,alpha = 0.01,l1_ratio = 0.01,n_jobs=1,class_weight=None)\n",
    "\n",
    "model_sgd.fit(x_train, y_train)\n",
    "y_pre = model_sgd.predict(x_test)\n",
    "y_prob = model_sgd.predict_proba(x_test)\n",
    "evaluation.get_official_auc(y_prob[:,1],y_test,valid)"
   ]
  },
  {
   "cell_type": "code",
   "execution_count": 14,
   "metadata": {},
   "outputs": [
    {
     "data": {
      "text/plain": [
       "0.5398192889218949"
      ]
     },
     "execution_count": 14,
     "metadata": {},
     "output_type": "execute_result"
    }
   ],
   "source": [
    "# 模型二\n",
    "param_dist = {'objective': 'binary:logistic', 'n_estimators': 17,\n",
    "              'subsample': 0.8, 'max_depth': 13, 'n_jobs': -1}\n",
    "model_xgb = xgb.XGBClassifier(**param_dist)\n",
    "\n",
    "model_xgb.fit(x_train, y_train)\n",
    "y_pre = model_xgb.predict(x_test)\n",
    "y_prob = model_xgb.predict_proba(x_test)\n",
    "evaluation.get_official_auc(y_prob[:,1],y_test,valid)"
   ]
  },
  {
   "cell_type": "code",
   "execution_count": 44,
   "metadata": {},
   "outputs": [
    {
     "name": "stdout",
     "output_type": "stream",
     "text": [
      "0.7 0.5470530819148469\n",
      "0.75 0.5480310852710372\n",
      "0.8 0.5485093377424121\n",
      "0.8500000000000001 0.5460918445924361\n",
      "0.9000000000000001 0.543953165923859\n",
      "0.9500000000000002 0.5439040046424326\n",
      "1.0000000000000002 0.5438586506979144\n"
     ]
    }
   ],
   "source": [
    "# 调参\n",
    "paradict = {}\n",
    "\n",
    "for sub in np.arange(0.7,1,0.05):\n",
    "    param_dist = {'objective': 'binary:logistic', 'n_estimators': 3,\n",
    "              'subsample': sub, 'max_depth': 13, 'n_jobs': -1}\n",
    "    \n",
    "    model_xgb = xgb.XGBClassifier(**param_dist)\n",
    "    model_xgb.fit(x_train, y_train)\n",
    "    y_pre = model_xgb.predict(x_test)\n",
    "    y_prob = model_xgb.predict_proba(x_test)\n",
    "    sco = evaluation.get_official_auc(y_prob[:,1],y_test,valid)\n",
    "    paradict[n_est] = sco\n",
    "    print(sub,sco)"
   ]
  },
  {
   "cell_type": "code",
   "execution_count": 34,
   "metadata": {},
   "outputs": [],
   "source": [
    "dfnest = pd.DataFrame.from_dict(paradict,orient='index').sort_index()"
   ]
  },
  {
   "cell_type": "code",
   "execution_count": 37,
   "metadata": {},
   "outputs": [
    {
     "data": {
      "text/plain": [
       "<matplotlib.axes._subplots.AxesSubplot at 0x25209976c88>"
      ]
     },
     "execution_count": 37,
     "metadata": {},
     "output_type": "execute_result"
    },
    {
     "data": {
      "image/png": "[encoded data removed]",
      "text/plain": [
       "<Figure size 432x288 with 1 Axes>"
      ]
     },
     "metadata": {
      "needs_background": "light"
     },
     "output_type": "display_data"
    }
   ],
   "source": [
    "dfnest.plot()"
   ]
  },
  {
   "cell_type": "code",
   "execution_count": null,
   "metadata": {},
   "outputs": [],
   "source": []
  }
 ],
 "metadata": {
  "kernelspec": {
   "display_name": "Python 3",
   "language": "python",
   "name": "python3"
  },
  "language_info": {
   "codemirror_mode": {
    "name": "ipython",
    "version": 3
   },
   "file_extension": ".py",
   "mimetype": "text/x-python",
   "name": "python",
   "nbconvert_exporter": "python",
   "pygments_lexer": "ipython3",
   "version": "3.6.8"
  }
 },
 "nbformat": 4,
 "nbformat_minor": 2
}
