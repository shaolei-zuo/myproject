{
 "cells": [
  {
   "cell_type": "code",
   "execution_count": 55,
   "metadata": {},
   "outputs": [],
   "source": [
    "import pandas as pd\n",
    "import numpy as np\n",
    "from sklearn.model_selection import train_test_split\n",
    "from sklearn.linear_model import SGDClassifier, LogisticRegression\n",
    "from sklearn.preprocessing import StandardScaler\n",
    "import xgboost as xgb\n",
    "from sklearn.metrics import accuracy_score,auc,confusion_matrix,f1_score, \\\n",
    "    precision_score,recall_score,roc_curve\n",
    "from imblearn.over_sampling import SMOTE\n",
    "import prettytable\n",
    "from datetime import date\n",
    "import matplotlib.pyplot as plt"
   ]
  },
  {
   "cell_type": "code",
   "execution_count": 2,
   "metadata": {},
   "outputs": [],
   "source": [
    "dfoff = pd.read_csv('./data/ccf_offline_stage1_train.csv')\n",
    "dftest = pd.read_csv('./data/ccf_offline_stage1_test_revised.csv')\n",
    "dfon = pd.read_csv('./data/ccf_online_stage1_train.csv')\n",
    "\n",
    "dfsub = pd.DataFrame({'User_id':'用户ID',\n",
    "                      'Coupon_id':'优惠券ID',\n",
    "                      'Date_received':'领取优惠券日期',\n",
    "                      'Probability':'预测值'},index=[1])"
   ]
  },
  {
   "cell_type": "code",
   "execution_count": 78,
   "metadata": {},
   "outputs": [],
   "source": []
  },
  {
   "cell_type": "markdown",
   "metadata": {},
   "source": [
    "# 只用线下数据，不做特征，找几个基本的模型，然后提交"
   ]
  },
  {
   "cell_type": "markdown",
   "metadata": {},
   "source": [
    "## 1、预处理\n",
    "正负样本标签(优惠券消费1，普通消费-1，领券不消费0)  \n",
    "过采样  \n",
    "训练和测试子集划分   \n",
    "还是要处理一下特征，优惠力度、消费日期等    "
   ]
  },
  {
   "cell_type": "markdown",
   "metadata": {},
   "source": [
    "### 1.1、打标签并且划出优惠券相关集\n",
    "这个子集要怎么划分呢？题目是预测领取优惠券后是否核销，也就是说全部是1（用券消费）和0（有券不消费），不存在-1（普通消费）  \n",
    "那么训练子集也要非0"
   ]
  },
  {
   "cell_type": "code",
   "execution_count": 3,
   "metadata": {},
   "outputs": [],
   "source": [
    "#def get_label_off(dfoff):\n",
    "#    \"\"\"给样本打标签\"\"\"\n",
    "#    # 拿券，消费\n",
    "#    dfoff.loc[(dfoff.Coupon_id.notna()) & (dfoff.Date.notna()),'label'] = 1\n",
    "#    # 拿券，不消费\n",
    "#    dfoff.loc[(dfoff.Coupon_id.notna()) & (dfoff.Date.isna()),'label'] = 0\n",
    "#    #不拿券，消费\n",
    "#    dfoff.loc[(dfoff.Coupon_id.isna()) & (dfoff.Date.notna()),'label'] = -1\n",
    "#    #不拿券，不消费\n",
    "#    dfoff.loc[(dfoff.Coupon_id.isna()) & (dfoff.Date.isna()),'label'] = 'error'\n",
    "#    return dfoff"
   ]
  },
  {
   "cell_type": "code",
   "execution_count": 4,
   "metadata": {},
   "outputs": [],
   "source": [
    "##打标签\n",
    "#dfoff = get_label_off(dfoff)\n",
    "##划分子集\n",
    "#dfall = dfoff[dfoff.label!=-1]"
   ]
  },
  {
   "cell_type": "code",
   "execution_count": 5,
   "metadata": {},
   "outputs": [],
   "source": [
    "#dfoff.label.value_counts()\n",
    "##看起来，整体核销率就是，5%左右"
   ]
  },
  {
   "cell_type": "markdown",
   "metadata": {},
   "source": [
    "### 1.2、处理特征\n"
   ]
  },
  {
   "cell_type": "markdown",
   "metadata": {},
   "source": [
    "#### 1.2.1 Discount_rate\n",
    "1. 将满xx减yy类型(`xx:yy`)的券变成折扣率 : `1 - yy/xx`，同时建立折扣券相关的特征 `discount_rate, discount_man, discount_jian, discount_type`\n",
    "2. 将距离 `str` 转为 `int`\n",
    "convert Discount_rate and Distance"
   ]
  },
  {
   "cell_type": "code",
   "execution_count": 6,
   "metadata": {},
   "outputs": [],
   "source": [
    "\n",
    "def getDiscountType(row):\n",
    "    if pd.isnull(row):\n",
    "        return np.nan\n",
    "    elif ':' in row:\n",
    "        return 1\n",
    "    else:\n",
    "        return 0\n",
    "\n",
    "def convertRate(row):\n",
    "    \"\"\"Convert discount to rate\"\"\"\n",
    "    if pd.isnull(row):\n",
    "        return 1.0\n",
    "    elif ':' in str(row):\n",
    "        rows = row.split(':')\n",
    "        return 1.0 - float(rows[1])/float(rows[0])\n",
    "    else:\n",
    "        return float(row)\n",
    "\n",
    "def getDiscountMan(row):\n",
    "    if ':' in str(row):\n",
    "        rows = row.split(':')\n",
    "        return int(rows[0])\n",
    "    else:\n",
    "        return 0\n",
    "\n",
    "def getDiscountJian(row):\n",
    "    if ':' in str(row):\n",
    "        rows = row.split(':')\n",
    "        return int(rows[1])\n",
    "    else:\n",
    "        return 0\n",
    "\n",
    "def processData(df):\n",
    "    # convert discunt_rate\n",
    "    df.loc[:,'discount_rate'] = df.loc[:,'Discount_rate'].apply(convertRate)\n",
    "    df.loc[:,'discount_man'] =  df.loc[:,'Discount_rate'].apply(getDiscountMan)\n",
    "    df.loc[:,'discount_jian'] = df.loc[:,'Discount_rate'].apply(getDiscountJian)\n",
    "    df.loc[:,'discount_type'] = df.loc[:,'Discount_rate'].apply(getDiscountType)\n",
    "    # print(df['discount_rate'].unique())\n",
    "    # convert distance\n",
    "    df['Distance'] = df['Distance'].fillna(2).astype(int)\n",
    "    return df"
   ]
  },
  {
   "cell_type": "code",
   "execution_count": 7,
   "metadata": {},
   "outputs": [],
   "source": [
    "dfoff = processData(dfoff)"
   ]
  },
  {
   "cell_type": "code",
   "execution_count": 8,
   "metadata": {},
   "outputs": [],
   "source": [
    "dftest = processData(dftest)"
   ]
  },
  {
   "cell_type": "markdown",
   "metadata": {},
   "source": [
    "#### 1.2.2 领券以及核销日期"
   ]
  },
  {
   "cell_type": "code",
   "execution_count": 6,
   "metadata": {},
   "outputs": [],
   "source": [
    "#date_received = dfoff['Date_received'].unique()\n",
    "#date_received = sorted(date_received[pd.notnull(date_received)])\n",
    "\n",
    "#date_buy = dfoff['Date'].unique()\n",
    "#date_buy = sorted(date_buy[pd.notnull(date_buy)])\n",
    "#date_buy = sorted(dfoff[dfoff['Date'].notnull()]['Date'])\n"
   ]
  },
  {
   "cell_type": "code",
   "execution_count": 10,
   "metadata": {},
   "outputs": [],
   "source": [
    "#couponbydate = dfoff[dfoff['Date_received'].notnull()][['Date_received', 'Date']].groupby(['Date_received'], as_index=False).count()\n",
    "#couponbydate.columns = ['Date_received','count']\n",
    "#buybydate = dfoff[(dfoff['Date'].notnull()) & (dfoff['Date_received'].notnull())][['Date_received', 'Date']].groupby(['Date_received'], as_index=False).count()\n",
    "#buybydate.columns = ['Date_received','count']"
   ]
  },
  {
   "cell_type": "code",
   "execution_count": 11,
   "metadata": {},
   "outputs": [],
   "source": [
    "#这俩不是一样的吗"
   ]
  },
  {
   "cell_type": "code",
   "execution_count": 12,
   "metadata": {},
   "outputs": [],
   "source": [
    "##统计不同领券日期，各自核销的订单数\n",
    "#couponbydate = dfoff[dfoff['Date_received'].notnull()][['Date_received', 'Date']].groupby(['Date_received'], as_index=False).count()\n",
    "#couponbydate.columns = ['Date_received','count']"
   ]
  },
  {
   "cell_type": "code",
   "execution_count": 13,
   "metadata": {},
   "outputs": [],
   "source": [
    "#buybydate = dfoff[(dfoff['Date'].notnull()) & (dfoff['Date_received'].notnull())][['Date_received', 'Date']].groupby(['Date_received'], as_index=False).count()\n",
    "## 优惠券消费\n",
    "#buybydate.columns = ['Date_received','count']"
   ]
  },
  {
   "cell_type": "markdown",
   "metadata": {},
   "source": [
    "#### 1.2.3 周末"
   ]
  },
  {
   "cell_type": "code",
   "execution_count": 9,
   "metadata": {},
   "outputs": [],
   "source": [
    "def getWeekday(row):\n",
    "    if row == 'nan':\n",
    "        return np.nan\n",
    "    else:\n",
    "        return date(int(row[0:4]), int(row[4:6]), int(row[6:8])).weekday() + 1\n",
    "\n",
    "# 领券是周几,没券就nan\n",
    "dfoff['weekday'] = dfoff['Date_received'].astype(str).apply(getWeekday)\n",
    "dftest['weekday'] = dftest['Date_received'].astype(str).apply(getWeekday)\n",
    "\n",
    "# weekday_type :  周六和周日为1，其他为0\n",
    "dfoff['weekday_type'] = dfoff['weekday'].apply(lambda x : 1 if x in [6,7] else 0 )\n",
    "dftest['weekday_type'] = dftest['weekday'].apply(lambda x : 1 if x in [6,7] else 0 )\n",
    "\n",
    "# change weekday to one-hot encoding \n",
    "weekdaycols = ['weekday_' + str(i) for i in range(1,8)]\n",
    "tmpdf = pd.get_dummies(dfoff['weekday'].replace('nan', np.nan))\n",
    "tmpdf.columns = weekdaycols\n",
    "dfoff[weekdaycols] = tmpdf\n",
    "\n",
    "tmpdf = pd.get_dummies(dftest['weekday'].replace('nan', np.nan))\n",
    "tmpdf.columns = weekdaycols\n",
    "dftest[weekdaycols] = tmpdf\n",
    "\n",
    "\n",
    "def label(row):\n",
    "    \"\"\"无券-1；有券且15天内消费1；其他0（包括有券不消费、有券15天后消费）\"\"\"\n",
    "    if pd.isnull(row['Date_received']):\n",
    "        return -1\n",
    "    if pd.notnull(row['Date']):\n",
    "        td = pd.to_datetime(row['Date'], format='%Y%m%d') -  pd.to_datetime(row['Date_received'], format='%Y%m%d')\n",
    "        if td <= pd.Timedelta(15, 'D'):\n",
    "            return 1\n",
    "    return 0\n",
    "\n",
    "dfoff['label'] = dfoff.apply(label, axis = 1)\n"
   ]
  },
  {
   "cell_type": "markdown",
   "metadata": {},
   "source": [
    "### 1.3 分割数据集"
   ]
  },
  {
   "cell_type": "code",
   "execution_count": 10,
   "metadata": {},
   "outputs": [],
   "source": [
    "dfall = dfoff[dfoff['label'] != -1].copy()\n",
    "dfall.Date.fillna(0,inplace=True)"
   ]
  },
  {
   "cell_type": "markdown",
   "metadata": {},
   "source": [
    "#### 1.3.1 过采样\n",
    "1、Discount_rate无法识别（150：20）  \n",
    "2、不能有nan( Distance Date_received )  \n",
    "不能有nan,但是Date_received必须要保留nan  \n"
   ]
  },
  {
   "cell_type": "code",
   "execution_count": 11,
   "metadata": {},
   "outputs": [],
   "source": [
    "#过采样，注意Discount_rate和nan\n",
    "model_smote = SMOTE()\n",
    "dfall_X, dfall_y = model_smote.fit_sample(dfall.drop(['label','Discount_rate'],axis = 1),dfall.label)  # 输入数据并作过抽样处理\n",
    "dfall = pd.concat([dfall_X,dfall_y],axis=1)"
   ]
  },
  {
   "cell_type": "code",
   "execution_count": 12,
   "metadata": {},
   "outputs": [],
   "source": [
    "train = dfall[(dfall['Date_received'] < 20160516)].copy()\n",
    "valid = dfall[(dfall['Date_received'] >= 20160516) & (dfall['Date_received'] <= 20160615)].copy()"
   ]
  },
  {
   "cell_type": "code",
   "execution_count": 13,
   "metadata": {},
   "outputs": [],
   "source": [
    "#original_feature = ['discount_rate','discount_man', 'discount_jian','Distance','weekday_type']\n",
    "original_feature = ['discount_rate','discount_type','discount_man', 'discount_jian','Distance', 'weekday', 'weekday_type'] + weekdaycols\n",
    "\n",
    "x_train,y_train = train[original_feature],train.label\n",
    "x_test,y_test = valid[original_feature],valid.label"
   ]
  },
  {
   "cell_type": "markdown",
   "metadata": {},
   "source": [
    "### 1.4 模型以及得分"
   ]
  },
  {
   "cell_type": "code",
   "execution_count": 14,
   "metadata": {},
   "outputs": [],
   "source": [
    "def get_model_scores(model,x_test,y_test,pre_y):\n",
    "    \n",
    "    #print(model.score(x_test, valid['label']))\n",
    "    \n",
    "    tn, fp, fn, tp = confusion_matrix(y_test, pre_y).ravel()  # 获得混淆矩阵\n",
    "    confusion_matrix_table = prettytable.PrettyTable(['','prediction-0','prediction-1'])  # 创建表格实例\n",
    "    confusion_matrix_table.add_row(['actual-0',tp,fn])  # 增加第一行数据\n",
    "    confusion_matrix_table.add_row(['actual-1',fp,tn])  # 增加第二行数据\n",
    "    #print('confusion matrix \\n',confusion_matrix_table)\n",
    "    \n",
    "    # 核心评估指标\n",
    "    #y_test = valid.label\n",
    "    #x_test = valid[original_feature]\n",
    "    y_score = model.predict_proba(x_test)  # 获得决策树的预测概率\n",
    "    fpr, tpr, _ = roc_curve(y_test, y_score[:, 1])  # ROC\n",
    "    auc_s = auc(fpr, tpr)  # AUC\n",
    "    scores = [round(i(y_test, pre_y),3 )for  i in (accuracy_score,precision_score,\\\n",
    "                                         recall_score,f1_score)]\n",
    "    scores.insert(0,auc_s)\n",
    "    core_metrics = prettytable.PrettyTable()  # 创建表格实例\n",
    "    core_metrics.field_names = ['auc', 'accuracy', 'precision', 'recall', 'f1']  # 定义表格列名\n",
    "    core_metrics.add_row(scores)  # 增加数据\n",
    "    print('core metrics\\n',core_metrics)\n",
    "    return auc_s"
   ]
  },
  {
   "cell_type": "code",
   "execution_count": 38,
   "metadata": {},
   "outputs": [
    {
     "name": "stdout",
     "output_type": "stream",
     "text": [
      "----train-----\n",
      "---pred------\n",
      "core metrics\n",
      " +-------------------+----------+-----------+--------+-------+\n",
      "|        auc        | accuracy | precision | recall |   f1  |\n",
      "+-------------------+----------+-----------+--------+-------+\n",
      "| 0.861600576925673 |  0.696   |   0.649   | 0.881  | 0.748 |\n",
      "+-------------------+----------+-----------+--------+-------+\n"
     ]
    },
    {
     "data": {
      "text/plain": [
       "0.861600576925673"
      ]
     },
     "execution_count": 38,
     "metadata": {},
     "output_type": "execute_result"
    }
   ],
   "source": [
    "# 模型一\n",
    "# feature\n",
    "#original_feature = ['discount_rate','discount_type','discount_man', 'discount_jian','Distance', 'weekday', 'weekday_type'] + weekdaycols\n",
    "print(\"----train-----\")\n",
    "model = SGDClassifier(#lambda:\n",
    "    loss='log',\n",
    "    penalty='elasticnet',\n",
    "    fit_intercept=True,\n",
    "    max_iter=100,\n",
    "    shuffle=True,\n",
    "    alpha = 0.01,\n",
    "    l1_ratio = 0.01,\n",
    "    n_jobs=1,\n",
    "    class_weight=None\n",
    ")\n",
    "model.fit(x_train, y_train)\n",
    "print(\"---pred------\")\n",
    "\n",
    "## #### 预测以及结果评价\n",
    "pre_y = model.predict(x_test)\n",
    "get_model_scores(model,x_test,y_test,pre_y)"
   ]
  },
  {
   "cell_type": "code",
   "execution_count": 28,
   "metadata": {},
   "outputs": [],
   "source": [
    "#for i in range(80,121,10):\n",
    "#    model = SGDClassifier(loss='log',penalty='elasticnet',fit_intercept=True,max_iter=i,shuffle=True,\\\n",
    "#                          alpha = 0.01,l1_ratio = 0.01,n_jobs=1,class_weight=None)\n",
    "#    model.fit(x_train, y_train)\n",
    "#    pre_y = model.predict(x_test)\n",
    "#    cc = get_model_scores(model,x_test,y_test,pre_y)\n",
    "#    print('-----',i,cc)"
   ]
  },
  {
   "cell_type": "code",
   "execution_count": null,
   "metadata": {},
   "outputs": [],
   "source": []
  },
  {
   "cell_type": "code",
   "execution_count": null,
   "metadata": {},
   "outputs": [],
   "source": []
  },
  {
   "cell_type": "code",
   "execution_count": 32,
   "metadata": {},
   "outputs": [
    {
     "name": "stdout",
     "output_type": "stream",
     "text": [
      "core metrics\n",
      " +--------------------+----------+-----------+--------+-------+\n",
      "|        auc         | accuracy | precision | recall |   f1  |\n",
      "+--------------------+----------+-----------+--------+-------+\n",
      "| 0.9413959007668731 |  0.899   |   0.946   | 0.851  | 0.896 |\n",
      "+--------------------+----------+-----------+--------+-------+\n"
     ]
    },
    {
     "data": {
      "text/plain": [
       "0.9413959007668731"
      ]
     },
     "execution_count": 32,
     "metadata": {},
     "output_type": "execute_result"
    }
   ],
   "source": [
    "# 模型2\n",
    "# XGB分类模型训练\n",
    "param_dist = {'objective': 'binary:logistic', 'n_estimators': 17,\n",
    "              'subsample': 0.8, 'max_depth': 13, 'n_jobs': -1}\n",
    "model_xgb = xgb.XGBClassifier(**param_dist)\n",
    "#model_xgb = xgb.XGBClassifier()\n",
    "model_xgb.fit(x_train, y_train)\n",
    "\n",
    "pre_y = model_xgb.predict(valid[original_feature])\n",
    "get_model_scores(model_xgb,x_test,y_test,pre_y)"
   ]
  },
  {
   "cell_type": "code",
   "execution_count": 44,
   "metadata": {},
   "outputs": [],
   "source": [
    "# 先这样调参吧，非常简单的特征"
   ]
  },
  {
   "cell_type": "code",
   "execution_count": 45,
   "metadata": {},
   "outputs": [],
   "source": [
    "subsample_list = [0.8]\n",
    "n_estimators_list = [10,13,15,17]\n",
    "max_depth_list = [9,11,13,15]"
   ]
  },
  {
   "cell_type": "code",
   "execution_count": 46,
   "metadata": {
    "scrolled": true
   },
   "outputs": [
    {
     "name": "stdout",
     "output_type": "stream",
     "text": [
      "core metrics\n",
      " +--------------------+----------+-----------+--------+-------+\n",
      "|        auc         | accuracy | precision | recall |   f1  |\n",
      "+--------------------+----------+-----------+--------+-------+\n",
      "| 0.9397281188861489 |  0.897   |   0.943   | 0.849  | 0.894 |\n",
      "+--------------------+----------+-----------+--------+-------+\n",
      "0.8 10 9 0.9397281188861489\n",
      "core metrics\n",
      " +--------------------+----------+-----------+--------+-------+\n",
      "|        auc         | accuracy | precision | recall |   f1  |\n",
      "+--------------------+----------+-----------+--------+-------+\n",
      "| 0.9414163268385572 |   0.9    |   0.946   | 0.853  | 0.897 |\n",
      "+--------------------+----------+-----------+--------+-------+\n",
      "0.8 10 11 0.9414163268385572\n",
      "core metrics\n",
      " +--------------------+----------+-----------+--------+-------+\n",
      "|        auc         | accuracy | precision | recall |   f1  |\n",
      "+--------------------+----------+-----------+--------+-------+\n",
      "| 0.9411118653137099 |  0.901   |   0.947   | 0.852  | 0.897 |\n",
      "+--------------------+----------+-----------+--------+-------+\n",
      "0.8 10 13 0.9411118653137099\n",
      "core metrics\n",
      " +-------------------+----------+-----------+--------+-------+\n",
      "|        auc        | accuracy | precision | recall |   f1  |\n",
      "+-------------------+----------+-----------+--------+-------+\n",
      "| 0.941305102799367 |  0.901   |   0.948   | 0.852  | 0.897 |\n",
      "+-------------------+----------+-----------+--------+-------+\n",
      "0.8 10 15 0.941305102799367\n",
      "core metrics\n",
      " +--------------------+----------+-----------+--------+-------+\n",
      "|        auc         | accuracy | precision | recall |   f1  |\n",
      "+--------------------+----------+-----------+--------+-------+\n",
      "| 0.9415906721516303 |  0.899   |   0.944   | 0.852  | 0.896 |\n",
      "+--------------------+----------+-----------+--------+-------+\n",
      "0.8 13 9 0.9415906721516303\n",
      "core metrics\n",
      " +-------------------+----------+-----------+--------+-------+\n",
      "|        auc        | accuracy | precision | recall |   f1  |\n",
      "+-------------------+----------+-----------+--------+-------+\n",
      "| 0.942038420139345 |  0.901   |   0.946   | 0.854  | 0.898 |\n",
      "+-------------------+----------+-----------+--------+-------+\n",
      "0.8 13 11 0.942038420139345\n",
      "core metrics\n",
      " +--------------------+----------+-----------+--------+-------+\n",
      "|        auc         | accuracy | precision | recall |   f1  |\n",
      "+--------------------+----------+-----------+--------+-------+\n",
      "| 0.9422178254045538 |  0.902   |   0.948   | 0.853  | 0.898 |\n",
      "+--------------------+----------+-----------+--------+-------+\n",
      "0.8 13 13 0.9422178254045538\n",
      "core metrics\n",
      " +--------------------+----------+-----------+--------+-------+\n",
      "|        auc         | accuracy | precision | recall |   f1  |\n",
      "+--------------------+----------+-----------+--------+-------+\n",
      "| 0.9418382615855934 |  0.901   |   0.948   | 0.853  | 0.898 |\n",
      "+--------------------+----------+-----------+--------+-------+\n",
      "0.8 13 15 0.9418382615855934\n",
      "core metrics\n",
      " +--------------------+----------+-----------+--------+-------+\n",
      "|        auc         | accuracy | precision | recall |   f1  |\n",
      "+--------------------+----------+-----------+--------+-------+\n",
      "| 0.9418863933761474 |   0.9    |   0.947   | 0.852  | 0.897 |\n",
      "+--------------------+----------+-----------+--------+-------+\n",
      "0.8 15 9 0.9418863933761474\n",
      "core metrics\n",
      " +--------------------+----------+-----------+--------+-------+\n",
      "|        auc         | accuracy | precision | recall |   f1  |\n",
      "+--------------------+----------+-----------+--------+-------+\n",
      "| 0.9423289017586132 |  0.901   |   0.948   | 0.853  | 0.898 |\n",
      "+--------------------+----------+-----------+--------+-------+\n",
      "0.8 15 11 0.9423289017586132\n",
      "core metrics\n",
      " +--------------------+----------+-----------+--------+-------+\n",
      "|        auc         | accuracy | precision | recall |   f1  |\n",
      "+--------------------+----------+-----------+--------+-------+\n",
      "| 0.9425888940750181 |  0.902   |   0.949   | 0.853  | 0.899 |\n",
      "+--------------------+----------+-----------+--------+-------+\n",
      "0.8 15 13 0.9425888940750181\n",
      "core metrics\n",
      " +--------------------+----------+-----------+--------+-------+\n",
      "|        auc         | accuracy | precision | recall |   f1  |\n",
      "+--------------------+----------+-----------+--------+-------+\n",
      "| 0.9425433553465754 |  0.902   |   0.951   | 0.852  | 0.899 |\n",
      "+--------------------+----------+-----------+--------+-------+\n",
      "0.8 15 15 0.9425433553465754\n",
      "core metrics\n",
      " +--------------------+----------+-----------+--------+-------+\n",
      "|        auc         | accuracy | precision | recall |   f1  |\n",
      "+--------------------+----------+-----------+--------+-------+\n",
      "| 0.9424980335032525 |  0.902   |   0.949   | 0.853  | 0.898 |\n",
      "+--------------------+----------+-----------+--------+-------+\n",
      "0.8 17 9 0.9424980335032525\n",
      "core metrics\n",
      " +--------------------+----------+-----------+--------+-------+\n",
      "|        auc         | accuracy | precision | recall |   f1  |\n",
      "+--------------------+----------+-----------+--------+-------+\n",
      "| 0.9427536249581134 |  0.902   |   0.948   | 0.853  | 0.898 |\n",
      "+--------------------+----------+-----------+--------+-------+\n",
      "0.8 17 11 0.9427536249581134\n",
      "core metrics\n",
      " +--------------------+----------+-----------+--------+-------+\n",
      "|        auc         | accuracy | precision | recall |   f1  |\n",
      "+--------------------+----------+-----------+--------+-------+\n",
      "| 0.9428891797113954 |  0.902   |   0.951   | 0.852  | 0.899 |\n",
      "+--------------------+----------+-----------+--------+-------+\n",
      "0.8 17 13 0.9428891797113954\n",
      "core metrics\n",
      " +--------------------+----------+-----------+--------+-------+\n",
      "|        auc         | accuracy | precision | recall |   f1  |\n",
      "+--------------------+----------+-----------+--------+-------+\n",
      "| 0.9426935743834519 |  0.902   |   0.951   | 0.852  | 0.899 |\n",
      "+--------------------+----------+-----------+--------+-------+\n",
      "0.8 17 15 0.9426935743834519\n"
     ]
    }
   ],
   "source": [
    "x,y,z,sc = [],[],[],[]\n",
    "for sub in subsample_list:\n",
    "    for est in n_estimators_list:\n",
    "        for dep in max_depth_list:\n",
    "            param_dist = {'objective': 'binary:logistic', 'n_estimators': est,\n",
    "              'subsample': sub, 'max_depth': dep, 'n_jobs': -1}\n",
    "            model_xgb = xgb.XGBClassifier(**param_dist)\n",
    "            model_xgb.fit(x_train, y_train)\n",
    "            \n",
    "            pre_y = model_xgb.predict(x_test)\n",
    "            tsc = get_model_scores(model_xgb,x_test,y_test,pre_y)\n",
    "            \n",
    "            x.append(sub)\n",
    "            y.append(est)\n",
    "            z.append(dep)\n",
    "            sc.append(tsc)\n",
    "            print(sub,est,dep,tsc)"
   ]
  },
  {
   "cell_type": "code",
   "execution_count": 47,
   "metadata": {},
   "outputs": [
    {
     "data": {
      "text/html": [
       "<div>\n",
       "<style scoped>\n",
       "    .dataframe tbody tr th:only-of-type {\n",
       "        vertical-align: middle;\n",
       "    }\n",
       "\n",
       "    .dataframe tbody tr th {\n",
       "        vertical-align: top;\n",
       "    }\n",
       "\n",
       "    .dataframe thead th {\n",
       "        text-align: right;\n",
       "    }\n",
       "</style>\n",
       "<table border=\"1\" class=\"dataframe\">\n",
       "  <thead>\n",
       "    <tr style=\"text-align: right;\">\n",
       "      <th></th>\n",
       "      <th>0</th>\n",
       "      <th>1</th>\n",
       "      <th>2</th>\n",
       "      <th>3</th>\n",
       "    </tr>\n",
       "  </thead>\n",
       "  <tbody>\n",
       "    <tr>\n",
       "      <th>0</th>\n",
       "      <td>0.8</td>\n",
       "      <td>10.0</td>\n",
       "      <td>9.0</td>\n",
       "      <td>0.939728</td>\n",
       "    </tr>\n",
       "    <tr>\n",
       "      <th>2</th>\n",
       "      <td>0.8</td>\n",
       "      <td>10.0</td>\n",
       "      <td>13.0</td>\n",
       "      <td>0.941112</td>\n",
       "    </tr>\n",
       "    <tr>\n",
       "      <th>3</th>\n",
       "      <td>0.8</td>\n",
       "      <td>10.0</td>\n",
       "      <td>15.0</td>\n",
       "      <td>0.941305</td>\n",
       "    </tr>\n",
       "    <tr>\n",
       "      <th>1</th>\n",
       "      <td>0.8</td>\n",
       "      <td>10.0</td>\n",
       "      <td>11.0</td>\n",
       "      <td>0.941416</td>\n",
       "    </tr>\n",
       "    <tr>\n",
       "      <th>4</th>\n",
       "      <td>0.8</td>\n",
       "      <td>13.0</td>\n",
       "      <td>9.0</td>\n",
       "      <td>0.941591</td>\n",
       "    </tr>\n",
       "    <tr>\n",
       "      <th>7</th>\n",
       "      <td>0.8</td>\n",
       "      <td>13.0</td>\n",
       "      <td>15.0</td>\n",
       "      <td>0.941838</td>\n",
       "    </tr>\n",
       "    <tr>\n",
       "      <th>8</th>\n",
       "      <td>0.8</td>\n",
       "      <td>15.0</td>\n",
       "      <td>9.0</td>\n",
       "      <td>0.941886</td>\n",
       "    </tr>\n",
       "    <tr>\n",
       "      <th>5</th>\n",
       "      <td>0.8</td>\n",
       "      <td>13.0</td>\n",
       "      <td>11.0</td>\n",
       "      <td>0.942038</td>\n",
       "    </tr>\n",
       "    <tr>\n",
       "      <th>6</th>\n",
       "      <td>0.8</td>\n",
       "      <td>13.0</td>\n",
       "      <td>13.0</td>\n",
       "      <td>0.942218</td>\n",
       "    </tr>\n",
       "    <tr>\n",
       "      <th>9</th>\n",
       "      <td>0.8</td>\n",
       "      <td>15.0</td>\n",
       "      <td>11.0</td>\n",
       "      <td>0.942329</td>\n",
       "    </tr>\n",
       "    <tr>\n",
       "      <th>12</th>\n",
       "      <td>0.8</td>\n",
       "      <td>17.0</td>\n",
       "      <td>9.0</td>\n",
       "      <td>0.942498</td>\n",
       "    </tr>\n",
       "    <tr>\n",
       "      <th>11</th>\n",
       "      <td>0.8</td>\n",
       "      <td>15.0</td>\n",
       "      <td>15.0</td>\n",
       "      <td>0.942543</td>\n",
       "    </tr>\n",
       "    <tr>\n",
       "      <th>10</th>\n",
       "      <td>0.8</td>\n",
       "      <td>15.0</td>\n",
       "      <td>13.0</td>\n",
       "      <td>0.942589</td>\n",
       "    </tr>\n",
       "    <tr>\n",
       "      <th>15</th>\n",
       "      <td>0.8</td>\n",
       "      <td>17.0</td>\n",
       "      <td>15.0</td>\n",
       "      <td>0.942694</td>\n",
       "    </tr>\n",
       "    <tr>\n",
       "      <th>13</th>\n",
       "      <td>0.8</td>\n",
       "      <td>17.0</td>\n",
       "      <td>11.0</td>\n",
       "      <td>0.942754</td>\n",
       "    </tr>\n",
       "    <tr>\n",
       "      <th>14</th>\n",
       "      <td>0.8</td>\n",
       "      <td>17.0</td>\n",
       "      <td>13.0</td>\n",
       "      <td>0.942889</td>\n",
       "    </tr>\n",
       "  </tbody>\n",
       "</table>\n",
       "</div>"
      ],
      "text/plain": [
       "      0     1     2         3\n",
       "0   0.8  10.0   9.0  0.939728\n",
       "2   0.8  10.0  13.0  0.941112\n",
       "3   0.8  10.0  15.0  0.941305\n",
       "1   0.8  10.0  11.0  0.941416\n",
       "4   0.8  13.0   9.0  0.941591\n",
       "7   0.8  13.0  15.0  0.941838\n",
       "8   0.8  15.0   9.0  0.941886\n",
       "5   0.8  13.0  11.0  0.942038\n",
       "6   0.8  13.0  13.0  0.942218\n",
       "9   0.8  15.0  11.0  0.942329\n",
       "12  0.8  17.0   9.0  0.942498\n",
       "11  0.8  15.0  15.0  0.942543\n",
       "10  0.8  15.0  13.0  0.942589\n",
       "15  0.8  17.0  15.0  0.942694\n",
       "13  0.8  17.0  11.0  0.942754\n",
       "14  0.8  17.0  13.0  0.942889"
      ]
     },
     "execution_count": 47,
     "metadata": {},
     "output_type": "execute_result"
    }
   ],
   "source": [
    "pd.DataFrame([x,y,z,sc]).T.sort_values(3)"
   ]
  },
  {
   "cell_type": "code",
   "execution_count": 51,
   "metadata": {},
   "outputs": [
    {
     "data": {
      "text/plain": [
       "1.977877196352052"
      ]
     },
     "execution_count": 51,
     "metadata": {},
     "output_type": "execute_result"
    }
   ],
   "source": [
    "x_train.Distance.mean()"
   ]
  },
  {
   "cell_type": "code",
   "execution_count": null,
   "metadata": {},
   "outputs": [],
   "source": []
  },
  {
   "cell_type": "code",
   "execution_count": null,
   "metadata": {},
   "outputs": [],
   "source": []
  },
  {
   "cell_type": "code",
   "execution_count": 39,
   "metadata": {},
   "outputs": [
    {
     "data": {
      "text/plain": [
       "SGDClassifier(alpha=0.01, l1_ratio=0.01, loss='log', max_iter=100, n_jobs=1,\n",
       "              penalty='elasticnet')"
      ]
     },
     "execution_count": 39,
     "metadata": {},
     "output_type": "execute_result"
    }
   ],
   "source": [
    "model.fit(dfall[original_feature],dfall.label)"
   ]
  },
  {
   "cell_type": "code",
   "execution_count": 41,
   "metadata": {},
   "outputs": [
    {
     "data": {
      "text/html": [
       "<div>\n",
       "<style scoped>\n",
       "    .dataframe tbody tr th:only-of-type {\n",
       "        vertical-align: middle;\n",
       "    }\n",
       "\n",
       "    .dataframe tbody tr th {\n",
       "        vertical-align: top;\n",
       "    }\n",
       "\n",
       "    .dataframe thead th {\n",
       "        text-align: right;\n",
       "    }\n",
       "</style>\n",
       "<table border=\"1\" class=\"dataframe\">\n",
       "  <thead>\n",
       "    <tr style=\"text-align: right;\">\n",
       "      <th></th>\n",
       "      <th>User_id</th>\n",
       "      <th>Coupon_id</th>\n",
       "      <th>Date_received</th>\n",
       "      <th>label</th>\n",
       "    </tr>\n",
       "  </thead>\n",
       "  <tbody>\n",
       "    <tr>\n",
       "      <th>0</th>\n",
       "      <td>4129537</td>\n",
       "      <td>9983</td>\n",
       "      <td>20160712</td>\n",
       "      <td>0.551640</td>\n",
       "    </tr>\n",
       "    <tr>\n",
       "      <th>1</th>\n",
       "      <td>6949378</td>\n",
       "      <td>3429</td>\n",
       "      <td>20160706</td>\n",
       "      <td>0.471232</td>\n",
       "    </tr>\n",
       "    <tr>\n",
       "      <th>2</th>\n",
       "      <td>2166529</td>\n",
       "      <td>6928</td>\n",
       "      <td>20160727</td>\n",
       "      <td>0.066245</td>\n",
       "    </tr>\n",
       "    <tr>\n",
       "      <th>3</th>\n",
       "      <td>2166529</td>\n",
       "      <td>1808</td>\n",
       "      <td>20160727</td>\n",
       "      <td>0.164736</td>\n",
       "    </tr>\n",
       "    <tr>\n",
       "      <th>4</th>\n",
       "      <td>6172162</td>\n",
       "      <td>6500</td>\n",
       "      <td>20160708</td>\n",
       "      <td>0.435161</td>\n",
       "    </tr>\n",
       "  </tbody>\n",
       "</table>\n",
       "</div>"
      ],
      "text/plain": [
       "   User_id  Coupon_id  Date_received     label\n",
       "0  4129537       9983       20160712  0.551640\n",
       "1  6949378       3429       20160706  0.471232\n",
       "2  2166529       6928       20160727  0.066245\n",
       "3  2166529       1808       20160727  0.164736\n",
       "4  6172162       6500       20160708  0.435161"
      ]
     },
     "execution_count": 41,
     "metadata": {},
     "output_type": "execute_result"
    }
   ],
   "source": [
    "# 今天就酱，先提交\n",
    "\n",
    "# test prediction for submission\n",
    "final_model = model\n",
    "y_test_pred = final_model.predict_proba(dftest[original_feature])\n",
    "dftest1 = dftest[['User_id','Coupon_id','Date_received']].copy()\n",
    "dftest1['label'] = y_test_pred[:,1]\n",
    "dftest1.to_csv('submit_m1_all.csv', index=False, header=False)\n",
    "dftest1.head()"
   ]
  },
  {
   "cell_type": "code",
   "execution_count": null,
   "metadata": {},
   "outputs": [],
   "source": []
  },
  {
   "cell_type": "code",
   "execution_count": null,
   "metadata": {},
   "outputs": [],
   "source": []
  },
  {
   "cell_type": "code",
   "execution_count": null,
   "metadata": {},
   "outputs": [],
   "source": []
  },
  {
   "cell_type": "code",
   "execution_count": 43,
   "metadata": {},
   "outputs": [],
   "source": [
    "y_test_pred_1 = model.predict_proba(dftest[original_feature])\n",
    "y_test_pred_2 = model_xgb.predict_proba(dftest[original_feature])"
   ]
  },
  {
   "cell_type": "code",
   "execution_count": 45,
   "metadata": {},
   "outputs": [
    {
     "data": {
      "text/plain": [
       "array([[0.4483597 , 0.5516403 ],\n",
       "       [0.52876836, 0.47123164],\n",
       "       [0.93375519, 0.06624481],\n",
       "       ...,\n",
       "       [0.56710119, 0.43289881],\n",
       "       [0.53773179, 0.46226821],\n",
       "       [0.70233485, 0.29766515]])"
      ]
     },
     "execution_count": 45,
     "metadata": {},
     "output_type": "execute_result"
    }
   ],
   "source": []
  },
  {
   "cell_type": "code",
   "execution_count": 74,
   "metadata": {},
   "outputs": [],
   "source": [
    "dfscores = pd.DataFrame([y_test_pred_1[:,1],y_test_pred_2[:,1]]).T"
   ]
  },
  {
   "cell_type": "code",
   "execution_count": 77,
   "metadata": {},
   "outputs": [],
   "source": [
    "def ls(x):\n",
    "    if x[0]>x[1]:\n",
    "        max = x[0]\n",
    "        min = x[1]\n",
    "    else:\n",
    "        max = x[1]\n",
    "        min = x[0]\n",
    "    return  max\n",
    "\n",
    "def ls2(x):\n",
    "    if x[0]>x[1]:\n",
    "        max = x[0]\n",
    "        min = x[1]\n",
    "    else:\n",
    "        max = x[1]\n",
    "        min = x[0]\n",
    "    return  min\n",
    "\n",
    "dfscores.loc[:,'max'] = dfscores.apply(ls,axis=1)\n",
    "dfscores.loc[:,'min'] = dfscores.apply(ls2,axis=1)"
   ]
  },
  {
   "cell_type": "code",
   "execution_count": 83,
   "metadata": {},
   "outputs": [
    {
     "data": {
      "text/html": [
       "<div>\n",
       "<style scoped>\n",
       "    .dataframe tbody tr th:only-of-type {\n",
       "        vertical-align: middle;\n",
       "    }\n",
       "\n",
       "    .dataframe tbody tr th {\n",
       "        vertical-align: top;\n",
       "    }\n",
       "\n",
       "    .dataframe thead th {\n",
       "        text-align: right;\n",
       "    }\n",
       "</style>\n",
       "<table border=\"1\" class=\"dataframe\">\n",
       "  <thead>\n",
       "    <tr style=\"text-align: right;\">\n",
       "      <th></th>\n",
       "      <th>User_id</th>\n",
       "      <th>Coupon_id</th>\n",
       "      <th>Date_received</th>\n",
       "      <th>label</th>\n",
       "    </tr>\n",
       "  </thead>\n",
       "  <tbody>\n",
       "    <tr>\n",
       "      <th>0</th>\n",
       "      <td>4129537</td>\n",
       "      <td>9983</td>\n",
       "      <td>20160712</td>\n",
       "      <td>0.142272</td>\n",
       "    </tr>\n",
       "    <tr>\n",
       "      <th>1</th>\n",
       "      <td>6949378</td>\n",
       "      <td>3429</td>\n",
       "      <td>20160706</td>\n",
       "      <td>0.121859</td>\n",
       "    </tr>\n",
       "    <tr>\n",
       "      <th>2</th>\n",
       "      <td>2166529</td>\n",
       "      <td>6928</td>\n",
       "      <td>20160727</td>\n",
       "      <td>0.008821</td>\n",
       "    </tr>\n",
       "    <tr>\n",
       "      <th>3</th>\n",
       "      <td>2166529</td>\n",
       "      <td>1808</td>\n",
       "      <td>20160727</td>\n",
       "      <td>0.021716</td>\n",
       "    </tr>\n",
       "    <tr>\n",
       "      <th>4</th>\n",
       "      <td>6172162</td>\n",
       "      <td>6500</td>\n",
       "      <td>20160708</td>\n",
       "      <td>0.129874</td>\n",
       "    </tr>\n",
       "  </tbody>\n",
       "</table>\n",
       "</div>"
      ],
      "text/plain": [
       "   User_id  Coupon_id  Date_received     label\n",
       "0  4129537       9983       20160712  0.142272\n",
       "1  6949378       3429       20160706  0.121859\n",
       "2  2166529       6928       20160727  0.008821\n",
       "3  2166529       1808       20160727  0.021716\n",
       "4  6172162       6500       20160708  0.129874"
      ]
     },
     "execution_count": 83,
     "metadata": {},
     "output_type": "execute_result"
    }
   ],
   "source": [
    "y_test_pred = dfscores.loc[:,'min']\n",
    "dftest1 = dftest[['User_id','Coupon_id','Date_received']].copy()\n",
    "dftest1['label'] = y_test_pred\n",
    "dftest1.to_csv('submit_m12_all_min.csv', index=False, header=False)\n",
    "dftest1.head()"
   ]
  },
  {
   "cell_type": "markdown",
   "metadata": {},
   "source": [
    "### 1.3 过采样\n",
    "正样本比例过少，需要过采样"
   ]
  },
  {
   "cell_type": "code",
   "execution_count": null,
   "metadata": {},
   "outputs": [],
   "source": [
    "dfall.label.value_counts()\n",
    "X = dfall.iloc[:,:-1]\n",
    "y = dfall.iloc[:,-1]"
   ]
  },
  {
   "cell_type": "code",
   "execution_count": null,
   "metadata": {},
   "outputs": [],
   "source": [
    "model_smote = SMOTE()\n",
    "#X,y = model_smote.fit_sample(X,y)"
   ]
  },
  {
   "cell_type": "code",
   "execution_count": null,
   "metadata": {},
   "outputs": [],
   "source": []
  },
  {
   "cell_type": "code",
   "execution_count": null,
   "metadata": {},
   "outputs": [],
   "source": []
  },
  {
   "cell_type": "code",
   "execution_count": null,
   "metadata": {},
   "outputs": [],
   "source": []
  },
  {
   "cell_type": "code",
   "execution_count": null,
   "metadata": {},
   "outputs": [],
   "source": []
  },
  {
   "cell_type": "code",
   "execution_count": null,
   "metadata": {},
   "outputs": [],
   "source": []
  },
  {
   "cell_type": "code",
   "execution_count": null,
   "metadata": {},
   "outputs": [],
   "source": []
  },
  {
   "cell_type": "markdown",
   "metadata": {},
   "source": [
    "# 记录\n",
    "0.5514 m1_half  \n",
    "0.5493 m2_half  \n",
    "0.5536 m2_all  \n",
    "0.5553 m1_all  \n",
    "0.5536 submit_m12_all_max.\n",
    "0.5542 submit_m12_all_min.csv"
   ]
  },
  {
   "cell_type": "code",
   "execution_count": null,
   "metadata": {},
   "outputs": [],
   "source": []
  }
 ],
 "metadata": {
  "kernelspec": {
   "display_name": "Python 3",
   "language": "python",
   "name": "python3"
  },
  "language_info": {
   "codemirror_mode": {
    "name": "ipython",
    "version": 3
   },
   "file_extension": ".py",
   "mimetype": "text/x-python",
   "name": "python",
   "nbconvert_exporter": "python",
   "pygments_lexer": "ipython3",
   "version": "3.6.8"
  }
 },
 "nbformat": 4,
 "nbformat_minor": 2
}
