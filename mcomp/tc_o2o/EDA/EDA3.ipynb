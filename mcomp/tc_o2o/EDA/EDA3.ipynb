{
 "cells": [
  {
   "cell_type": "markdown",
   "metadata": {},
   "source": [
    "# 结论：\n",
    "1、dftest的user_id中，只有2个没有在dfoff中出现过【2495873，1286474】    \n",
    "2、dftest有约10万个UM_id，但是其中9万个在nf2中没有记录  \n",
    "3、同上，valid有约21万个UM_id,但是其中18.5万个id在nf2中没有记录  "
   ]
  },
  {
   "cell_type": "code",
   "execution_count": 1,
   "metadata": {},
   "outputs": [],
   "source": [
    "# 目前只有两个特征比较有效，希望从这两个特征入手，看看核销的人有什么特征"
   ]
  },
  {
   "cell_type": "code",
   "execution_count": 14,
   "metadata": {},
   "outputs": [],
   "source": [
    "import sys\n",
    "sys.path.append('../app/')\n",
    "import fileio\n",
    "import featureprocess\n",
    "import preprocess\n",
    "import matplotlib.pyplot as plt"
   ]
  },
  {
   "cell_type": "code",
   "execution_count": 7,
   "metadata": {},
   "outputs": [],
   "source": [
    "dfoff,dftest,dfon = fileio.read_all()"
   ]
  },
  {
   "cell_type": "code",
   "execution_count": 12,
   "metadata": {},
   "outputs": [],
   "source": [
    "dfoff,dfall,train,valid = preprocess.preprocess(dfoff)"
   ]
  },
  {
   "cell_type": "code",
   "execution_count": 13,
   "metadata": {},
   "outputs": [],
   "source": [
    "dfoff = featureprocess.process_features_main(dfoff)\n",
    "dfall = featureprocess.process_features_main(dfall)\n",
    "\n",
    "train = featureprocess.process_features_main(train)\n",
    "valid = featureprocess.process_features_main(valid)\n",
    "dftest = featureprocess.process_features_main(dftest)"
   ]
  },
  {
   "cell_type": "code",
   "execution_count": 17,
   "metadata": {},
   "outputs": [
    {
     "data": {
      "text/plain": [
       "0         6\n",
       "1         1\n",
       "2         1\n",
       "3         1\n",
       "4         4\n",
       "         ..\n",
       "252581    1\n",
       "252582    2\n",
       "252583    1\n",
       "252584    1\n",
       "252585    1\n",
       "Name: weekday, Length: 252586, dtype: int64"
      ]
     },
     "execution_count": 17,
     "metadata": {},
     "output_type": "execute_result"
    }
   ],
   "source": [
    "# 各个特征，柱状图\n",
    "valid.weekday"
   ]
  },
  {
   "cell_type": "code",
   "execution_count": null,
   "metadata": {},
   "outputs": [],
   "source": []
  }
 ],
 "metadata": {
  "kernelspec": {
   "display_name": "Python 3",
   "language": "python",
   "name": "python3"
  },
  "language_info": {
   "codemirror_mode": {
    "name": "ipython",
    "version": 3
   },
   "file_extension": ".py",
   "mimetype": "text/x-python",
   "name": "python",
   "nbconvert_exporter": "python",
   "pygments_lexer": "ipython3",
   "version": "3.6.8"
  }
 },
 "nbformat": 4,
 "nbformat_minor": 4
}
