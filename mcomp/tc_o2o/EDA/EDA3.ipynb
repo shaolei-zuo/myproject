{
 "cells": [
  {
   "cell_type": "markdown",
   "metadata": {},
   "source": [
    "# 结论：\n",
    "1、dftest的user_id中，只有2个没有在dfoff中出现过【2495873，1286474】    \n",
    "2、dftest有约10万个UM_id，但是其中9万个在nf2中没有记录  \n",
    "3、同上，valid有约21万个UM_id,但是其中18.5万个id在nf2中没有记录  "
   ]
  },
  {
   "cell_type": "code",
   "execution_count": 1,
   "metadata": {},
   "outputs": [],
   "source": [
    "# 目前只有两个特征比较有效，希望从这两个特征入手，看看核销的人有什么特征"
   ]
  },
  {
   "cell_type": "code",
   "execution_count": 2,
   "metadata": {},
   "outputs": [],
   "source": [
    "import sys\n",
    "sys.path.append('../app/')\n",
    "import fileio\n",
    "import featureprocess\n",
    "import preprocess\n",
    "import matplotlib.pyplot as plt\n",
    "\n",
    "import preprocess\n",
    "import featureprocess\n",
    "import fileio\n",
    "import evaluation\n",
    "import numpy as np\n",
    "import modelacc\n",
    "import pandas as pd\n",
    "from sklearn.impute import SimpleImputer"
   ]
  },
  {
   "cell_type": "code",
   "execution_count": 3,
   "metadata": {},
   "outputs": [],
   "source": [
    "dfoff,dftest,dfon = fileio.read_all()\n",
    "dfoff,dfall,train,valid = preprocess.preprocess(dfoff)"
   ]
  },
  {
   "cell_type": "markdown",
   "metadata": {},
   "source": [
    "# nf1和nf2 "
   ]
  },
  {
   "cell_type": "code",
   "execution_count": 4,
   "metadata": {},
   "outputs": [],
   "source": [
    "def merge_nf2(df):\n",
    "    \"\"\"\n",
    "    输入dftest或者dfoff,用于合并新特征1.\n",
    "    新特征是使用dfoff的用户id计算的，所以对于其余df可能无法完全兼容，比如dftest会多两个id没有历史数据\n",
    "    这里会用most填充\n",
    "    核销数：{0:'U-M没有历史关系';\n",
    "             1：'有过label-1或者label0\n",
    "             2:''\n",
    "            '}\n",
    "    \"\"\"\n",
    "    \n",
    "    df.loc[:,'UM_id'] = df.User_id.astype('str')+'_'+df.Merchant_id.astype('str')\n",
    "    dfnf2 = fileio.read_nf2()\n",
    "    dfobj = pd.merge(df,dfnf2,'left',left_on='UM_id',right_on='用户id')\n",
    "    \n",
    "    #imp_most = SimpleImputer(missing_values=np.nan, strategy='most_frequent')\n",
    "    #dfobj.iloc[:,-5::] = imp_most.fit_transform(dfobj.iloc[:,-5::])\n",
    "    \n",
    "    return dfobj\n",
    "\n",
    "def merge_nf1(df):\n",
    "    \"\"\"\n",
    "    输入dftest或者dfoff,用于合并新特征1.\n",
    "    新特征是使用dfoff的用户id计算的，所以对于其余df可能无法完全兼容，比如dftest会多两个id没有历史数据\n",
    "    这里会用most填充\n",
    "    \"\"\"\n",
    "    dfnf1 = fileio.read_nf1()\n",
    "    dfobj = pd.merge(df,dfnf1,'left',left_on='User_id',right_on='用户id')\n",
    "    \n",
    "    #imp_most = SimpleImputer(missing_values=np.nan, strategy='most_frequent')\n",
    "    #dfobj.iloc[:,-6::] = imp_most.fit_transform(dfobj.iloc[:,-6::])\n",
    "    \n",
    "    return dfobj"
   ]
  },
  {
   "cell_type": "code",
   "execution_count": 5,
   "metadata": {},
   "outputs": [],
   "source": [
    "dfoff_1  = merge_nf1(dfoff)\n",
    "dfall_1  = merge_nf1(dfall)\n",
    "\n",
    "train_1  = merge_nf1(train)\n",
    "valid_1  = merge_nf1(valid)\n",
    "dftest_1 = merge_nf1(dftest)"
   ]
  },
  {
   "cell_type": "code",
   "execution_count": 6,
   "metadata": {},
   "outputs": [],
   "source": [
    "dfoff_2  = merge_nf2(dfoff)\n",
    "dfall_2  = merge_nf2(dfall)\n",
    "\n",
    "train_2  = merge_nf2(train)\n",
    "valid_2  = merge_nf2(valid)\n",
    "dftest_2 = merge_nf2(dftest)"
   ]
  },
  {
   "cell_type": "code",
   "execution_count": 7,
   "metadata": {},
   "outputs": [],
   "source": [
    "def count_nanum(df):\n",
    "    nna = len(df.核销数[df.核销数>=1])\n",
    "    nle = len(df)\n",
    "    \n",
    "    print(nle,nna,nna/nle*100)"
   ]
  },
  {
   "cell_type": "code",
   "execution_count": 11,
   "metadata": {},
   "outputs": [
    {
     "data": {
      "text/plain": [
       "array([0, 1], dtype=int64)"
      ]
     },
     "execution_count": 11,
     "metadata": {},
     "output_type": "execute_result"
    }
   ],
   "source": [
    "valid_2.label.unique()"
   ]
  },
  {
   "cell_type": "code",
   "execution_count": 8,
   "metadata": {},
   "outputs": [
    {
     "name": "stdout",
     "output_type": "stream",
     "text": [
      "229715 18636 8.112661341227174\n",
      "22871 6137 26.8331074286214\n"
     ]
    }
   ],
   "source": [
    "df0 = valid_1[valid_1.label == 0]\n",
    "df1 = valid_1[valid_1.label == 1]\n",
    "\n",
    "count_nanum(df0)\n",
    "count_nanum(df1)"
   ]
  },
  {
   "cell_type": "code",
   "execution_count": 9,
   "metadata": {},
   "outputs": [
    {
     "name": "stdout",
     "output_type": "stream",
     "text": [
      "229715 7239 3.151296171342751\n",
      "22871 4878 21.328319706178128\n"
     ]
    }
   ],
   "source": [
    "df0 = valid_2[valid_2.label == 0]\n",
    "df1 = valid_2[valid_2.label == 1]\n",
    "    \n",
    "count_nanum(df0)\n",
    "count_nanum(df1)"
   ]
  },
  {
   "cell_type": "code",
   "execution_count": null,
   "metadata": {},
   "outputs": [],
   "source": []
  },
  {
   "cell_type": "code",
   "execution_count": null,
   "metadata": {},
   "outputs": [],
   "source": []
  },
  {
   "cell_type": "code",
   "execution_count": null,
   "metadata": {},
   "outputs": [],
   "source": []
  },
  {
   "cell_type": "code",
   "execution_count": null,
   "metadata": {},
   "outputs": [],
   "source": []
  },
  {
   "cell_type": "code",
   "execution_count": null,
   "metadata": {},
   "outputs": [],
   "source": [
    "end"
   ]
  },
  {
   "cell_type": "code",
   "execution_count": 13,
   "metadata": {},
   "outputs": [],
   "source": [
    "dfoff = featureprocess.process_features_main(dfoff)\n",
    "dfall = featureprocess.process_features_main(dfall)\n",
    "\n",
    "train = featureprocess.process_features_main(train)\n",
    "valid = featureprocess.process_features_main(valid)\n",
    "dftest = featureprocess.process_features_main(dftest)"
   ]
  },
  {
   "cell_type": "code",
   "execution_count": 17,
   "metadata": {},
   "outputs": [
    {
     "data": {
      "text/plain": [
       "0         6\n",
       "1         1\n",
       "2         1\n",
       "3         1\n",
       "4         4\n",
       "         ..\n",
       "252581    1\n",
       "252582    2\n",
       "252583    1\n",
       "252584    1\n",
       "252585    1\n",
       "Name: weekday, Length: 252586, dtype: int64"
      ]
     },
     "execution_count": 17,
     "metadata": {},
     "output_type": "execute_result"
    }
   ],
   "source": [
    "# 各个特征，柱状图\n",
    "valid.weekday"
   ]
  },
  {
   "cell_type": "code",
   "execution_count": null,
   "metadata": {},
   "outputs": [],
   "source": []
  }
 ],
 "metadata": {
  "kernelspec": {
   "display_name": "Python 3",
   "language": "python",
   "name": "python3"
  },
  "language_info": {
   "codemirror_mode": {
    "name": "ipython",
    "version": 3
   },
   "file_extension": ".py",
   "mimetype": "text/x-python",
   "name": "python",
   "nbconvert_exporter": "python",
   "pygments_lexer": "ipython3",
   "version": "3.6.8"
  }
 },
 "nbformat": 4,
 "nbformat_minor": 4
}
