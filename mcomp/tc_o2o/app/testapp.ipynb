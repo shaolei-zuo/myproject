{
 "cells": [
  {
   "cell_type": "code",
   "execution_count": 1,
   "metadata": {},
   "outputs": [],
   "source": [
    "import preprocess\n",
    "import featureprocess\n",
    "import fileio\n",
    "import evaluation\n",
    "import numpy as np\n",
    "import modelacc\n",
    "import pandas as pd\n",
    "from sklearn.impute import SimpleImputer"
   ]
  },
  {
   "cell_type": "code",
   "execution_count": 2,
   "metadata": {},
   "outputs": [],
   "source": [
    "dfoff,dftest,dfon = fileio.read_all()\n",
    "dfoff,dfall,train,valid = preprocess.preprocess(dfoff)"
   ]
  },
  {
   "cell_type": "code",
   "execution_count": 5,
   "metadata": {},
   "outputs": [],
   "source": [
    "dfoff = featureprocess.process_features_main(dfoff)\n",
    "dfall = featureprocess.process_features_main(dfall)\n",
    "\n",
    "train = featureprocess.process_features_main(train)\n",
    "valid = featureprocess.process_features_main(valid)\n",
    "dftest = featureprocess.process_features_main(dftest)"
   ]
  },
  {
   "cell_type": "code",
   "execution_count": 8,
   "metadata": {},
   "outputs": [],
   "source": [
    "def get_lastfeatures(manjian=True,weekdays=True,distance = True,people=True):\n",
    "    \n",
    "    \n",
    "    lastfeatures = []\n",
    "    weekdaycols = ['weekday_' + str(i) for i in range(1,8)]\n",
    "\n",
    "    if manjian:\n",
    "        lastfeatures = lastfeatures+ ['discount_rate','discount_type','discount_man', 'discount_jian']\n",
    "    if weekdays:\n",
    "        lastfeatures = lastfeatures+['weekday', 'weekday_type'] #+ weekdaycols\n",
    "    if distance:\n",
    "        lastfeatures = lastfeatures+['Distance']\n",
    "    if people:\n",
    "        #lastfeatures = lastfeatures+['只领券', '核销数', '直接买', '单商铺最大购买次数', '成交商家数']\n",
    "        lastfeatures = lastfeatures+['核销数']\n",
    "    \n",
    "    if not len(lastfeatures):\n",
    "        print('None features')\n",
    "        return\n",
    "    \n",
    "    return lastfeatures\n",
    "\n"
   ]
  },
  {
   "cell_type": "markdown",
   "metadata": {},
   "source": [
    "# 特征测试"
   ]
  },
  {
   "cell_type": "code",
   "execution_count": 4,
   "metadata": {},
   "outputs": [],
   "source": [
    "#x_train,y_train,x_test,y_test = preprocess.split_xy(train,valid,columns=get_lastfeatures())\n",
    "#\n",
    "#model_name,model_score = modelacc.hodgepodge(modelacc.classifiers,x_train,y_train,x_test,y_test,valid)\n",
    "#np.mean(model_score)"
   ]
  },
  {
   "cell_type": "code",
   "execution_count": 5,
   "metadata": {},
   "outputs": [],
   "source": [
    "combine_list = []\n",
    "def combine(a=None,b=None,combine_list=combine_list):\n",
    "    \n",
    "    if a == None:\n",
    "        a,b = '0','1'\n",
    "    \n",
    "    c,d = '0','1'\n",
    "    \n",
    "    a1 = a+c\n",
    "    a2 = a+d\n",
    "    a3 = b+c\n",
    "    a4 = b+d\n",
    "    \n",
    "    if len(a1) == 4:\n",
    "        combine_list = combine_list+[a1,a2,a3,a4]\n",
    "        return combine_list\n",
    "    \n",
    "    else:\n",
    "        combine_list = combine(a1,a2,combine_list)\n",
    "        combine_list = combine(a3,a4,combine_list)\n",
    "\n",
    "    return combine_list\n",
    "    \n",
    "ll = combine()\n",
    "combine_list = []\n",
    "for i in ll:\n",
    "    combine_list.append([True   if l == '0' else False for l in i  ])\n",
    "        "
   ]
  },
  {
   "cell_type": "code",
   "execution_count": 6,
   "metadata": {
    "collapsed": true
   },
   "outputs": [
    {
     "name": "stdout",
     "output_type": "stream",
     "text": [
      "Logistic Regression 0.5425822261788051 \t\n",
      "Decision Tree 0.547515458865813 \t\n",
      "Random Forest 0.5452302574127559 \t\n",
      "AdaBoost 0.5467100670013958 \t\n",
      "Extra Trees 0.5475891342856105 \t\n",
      "GradientBoosting 0.549399612017644 \t\n",
      "Bagging 0.5475470364803825 \t\n",
      "Naive Bayes 0.5431649952862895 \t\n",
      "LDA 0.5437626455132502 \t\n",
      "MLP 0.5471313875095236 \t\n",
      "XGB 0.5472108694401866 \t\n",
      "['people']\n",
      "Logistic Regression 0.5509217343920725 \t\n",
      "Decision Tree 0.5474590751420415 \t\n",
      "Random Forest 0.547391489761952 \t\n",
      "AdaBoost 0.5490947353076935 \t\n",
      "Extra Trees 0.547342308099308 \t\n",
      "GradientBoosting 0.547342308099308 \t\n",
      "Bagging 0.547342308099308 \t\n",
      "Naive Bayes 0.5509217343920725 \t\n",
      "LDA 0.5509217343920725 \t\n",
      "MLP 0.5509217343920725 \t\n",
      "XGB 0.547342308099308 \t\n",
      "['distance']\n",
      "Logistic Regression 0.5732154391414557 \t\n",
      "Decision Tree 0.5475775335697141 \t\n",
      "Random Forest 0.5731615749420736 \t\n",
      "AdaBoost 0.5709727649224808 \t\n",
      "Extra Trees 0.5476966576410341 \t\n",
      "GradientBoosting 0.5233815730444801 \t\n",
      "Bagging 0.5476171838418007 \t\n",
      "Naive Bayes 0.5771750285061441 \t\n",
      "LDA 0.5739089998729983 \t\n",
      "MLP 0.5728495665571578 \t\n",
      "XGB 0.5208123199636281 \t\n",
      "['distance', 'people']\n",
      "Logistic Regression 0.5092168699488687 \t\n",
      "Decision Tree 0.5092168699488687 \t\n",
      "Random Forest 0.5092168699488687 \t\n",
      "AdaBoost 0.5092168699488687 \t\n",
      "Extra Trees 0.5092168699488687 \t\n",
      "GradientBoosting 0.5092168699488687 \t\n",
      "Bagging 0.5092168699488687 \t\n",
      "Naive Bayes 0.5097324599723932 \t\n",
      "LDA 0.5092168699488687 \t\n",
      "MLP 0.5187552687744181 \t\n",
      "XGB 0.5092168699488687 \t\n",
      "['weekdays']\n",
      "Logistic Regression 0.5455142039959576 \t\n",
      "Decision Tree 0.5474707184675587 \t\n",
      "Random Forest 0.5593602765256066 \t\n",
      "AdaBoost 0.552801682504313 \t\n",
      "Extra Trees 0.5461096132875443 \t\n",
      "GradientBoosting 0.5467828781601508 \t\n",
      "Bagging 0.5466509237323599 \t\n",
      "Naive Bayes 0.5420675284755768 \t\n",
      "LDA 0.5491943845544067 \t\n",
      "MLP 0.5529661784978243 \t\n",
      "XGB 0.54950185415274 \t\n",
      "['weekdays', 'people']\n",
      "Logistic Regression 0.5519953468689316 \t\n",
      "Decision Tree 0.5531049743850502 \t\n",
      "Random Forest 0.5500279619946922 \t\n",
      "AdaBoost 0.5506164479126633 \t\n",
      "Extra Trees 0.5522411918369449 \t\n",
      "GradientBoosting 0.5518370415891249 \t\n",
      "Bagging 0.5530229723435862 \t\n",
      "Naive Bayes 0.5380983576495622 \t\n",
      "LDA 0.5496161435469946 \t\n",
      "MLP 0.5561903908799043 \t\n",
      "XGB 0.5522669665161879 \t\n",
      "['weekdays', 'distance']\n",
      "Logistic Regression 0.5745329386790683 \t\n",
      "Decision Tree 0.5475775335697141 \t\n",
      "Random Forest 0.5699175062353341 \t\n",
      "AdaBoost 0.5716069327709826 \t\n",
      "Extra Trees 0.5454830980655596 \t\n",
      "GradientBoosting 0.5272466491466951 \t\n",
      "Bagging 0.5460345331469841 \t\n",
      "Naive Bayes 0.5638532803447232 \t\n",
      "LDA 0.5736529031920861 \t\n",
      "MLP 0.5692401852472093 \t\n",
      "XGB 0.5435492038458184 \t\n",
      "['weekdays', 'distance', 'people']\n",
      "Logistic Regression 0.5 \t\n",
      "Decision Tree 0.5 \t\n",
      "Random Forest 0.5 \t\n",
      "AdaBoost 0.5 \t\n",
      "Extra Trees 0.5 \t\n",
      "GradientBoosting 0.5 \t\n",
      "Bagging 0.5 \t\n",
      "Naive Bayes 0.5 \t\n",
      "LDA 0.5 \t\n",
      "MLP 0.5 \t\n",
      "XGB 0.5 \t\n",
      "['manjian']\n",
      "Logistic Regression 0.5423520868488879 \t\n",
      "Decision Tree 0.5477770328892095 \t\n",
      "Random Forest 0.548512734527396 \t\n",
      "AdaBoost 0.5468944235678804 \t\n",
      "Extra Trees 0.5473787163261833 \t\n",
      "GradientBoosting 0.5486222503298903 \t\n",
      "Bagging 0.547191433324016 \t\n",
      "Naive Bayes 0.5431704299181491 \t\n",
      "LDA 0.5433534966274192 \t\n",
      "MLP 0.54703977297559 \t\n",
      "XGB 0.5447938161421266 \t\n",
      "['manjian', 'people']\n",
      "Logistic Regression 0.5509217343920725 \t\n",
      "Decision Tree 0.5431328355772956 \t\n",
      "Random Forest 0.5482585367593051 \t\n",
      "AdaBoost 0.5491010447114575 \t\n",
      "Extra Trees 0.5469774857381037 \t\n",
      "GradientBoosting 0.5483852174038453 \t\n",
      "Bagging 0.547549852765533 \t\n",
      "Naive Bayes 0.5509217343920725 \t\n",
      "LDA 0.5509217343920725 \t\n",
      "MLP 0.5509217343920725 \t\n",
      "XGB 0.5473798366062972 \t\n",
      "['manjian', 'distance']\n",
      "Logistic Regression 0.5726468375800542 \t\n",
      "Decision Tree 0.5479067773157114 \t\n",
      "Random Forest 0.5676232214631142 \t\n",
      "AdaBoost 0.5708269530972266 \t\n",
      "Extra Trees 0.5464910287157994 \t\n",
      "GradientBoosting 0.5283035079768195 \t\n",
      "Bagging 0.5476207778487304 \t\n",
      "Naive Bayes 0.5771670323587681 \t\n",
      "LDA 0.5734109116633153 \t\n",
      "MLP 0.5724694471312065 \t\n",
      "XGB 0.5487817001577387 \t\n",
      "['manjian', 'distance', 'people']\n",
      "Logistic Regression 0.5014928939816987 \t\n",
      "Decision Tree 0.4959299145219549 \t\n",
      "Random Forest 0.5044537253602728 \t\n",
      "AdaBoost 0.49731780781078694 \t\n",
      "Extra Trees 0.5051395214097102 \t\n",
      "GradientBoosting 0.5022843258094736 \t\n",
      "Bagging 0.5045356299537476 \t\n",
      "Naive Bayes 0.5097324599723932 \t\n",
      "LDA 0.5014928939816987 \t\n",
      "MLP 0.5187160996139961 \t\n",
      "XGB 0.5049830253045933 \t\n",
      "['manjian', 'weekdays']\n",
      "Logistic Regression 0.5411879561707119 \t\n",
      "Decision Tree 0.5477770328892095 \t\n",
      "Random Forest 0.5522492213835117 \t\n",
      "AdaBoost 0.5430365846784407 \t\n",
      "Extra Trees 0.5449582806897934 \t\n",
      "GradientBoosting 0.5534344831897813 \t\n",
      "Bagging 0.546375984805211 \t\n",
      "Naive Bayes 0.5420498641329896 \t\n",
      "LDA 0.5426667146124337 \t\n",
      "MLP 0.549296842657376 \t\n",
      "XGB 0.5483492380140399 \t\n",
      "['manjian', 'weekdays', 'people']\n",
      "Logistic Regression 0.5500464126067275 \t\n",
      "Decision Tree 0.5453313148287965 \t\n",
      "Random Forest 0.5524588383922711 \t\n",
      "AdaBoost 0.5486942149189641 \t\n",
      "Extra Trees 0.5379653427200367 \t\n",
      "GradientBoosting 0.5492657490971025 \t\n",
      "Bagging 0.5391833305740912 \t\n",
      "Naive Bayes 0.5380983576495622 \t\n",
      "LDA 0.5456225536619072 \t\n",
      "MLP 0.5551366166776308 \t\n",
      "XGB 0.543812712993801 \t\n",
      "['manjian', 'weekdays', 'distance']\n",
      "Logistic Regression 0.5712591290787444 \t\n",
      "Decision Tree 0.5479067773157114 \t\n",
      "Random Forest 0.5764427029268524 \t\n",
      "AdaBoost 0.5694370892787454 \t\n",
      "Extra Trees 0.5420572619473171 \t\n",
      "GradientBoosting 0.5350407629651933 \t\n",
      "Bagging 0.5453209732607325 \t\n",
      "Naive Bayes 0.5639029019386573 \t\n",
      "LDA 0.5697134025035804 \t\n",
      "MLP 0.5756245842618511 \t\n",
      "XGB 0.5477947489652829 \t\n",
      "['manjian', 'weekdays', 'distance', 'people']\n"
     ]
    }
   ],
   "source": [
    "feature_list = ['manjian','weekdays','distance','people']\n",
    "\n",
    "dfobj = pd.DataFrame(columns = ['均值','最小','最大','标准差'],index = ll)\n",
    "\n",
    "for l01 in ll:\n",
    "    i = [True   if l == '1' else False for l in l01  ]\n",
    "    if not True in i:\n",
    "        continue\n",
    "        \n",
    "    x_train,y_train,x_test,y_test = preprocess.split_xy(train,valid,columns=get_lastfeatures(manjian=i[0],\n",
    "                                                                                         weekdays=i[1],distance = i[2],people=i[3]))\n",
    "    model_name,model_score = modelacc.hodgepodge(modelacc.classifiers,x_train,y_train,x_test,y_test,valid)\n",
    "    \n",
    "    print([feature_list[leng] for leng in range(0,len(i)) if i[leng] is True ])\n",
    "    dfobj.loc[l01,:] = [np.mean(model_score),np.max(model_score),np.min(model_score),np.std(model_score)]"
   ]
  },
  {
   "cell_type": "code",
   "execution_count": 8,
   "metadata": {},
   "outputs": [
    {
     "data": {
      "text/html": [
       "<div>\n",
       "<style scoped>\n",
       "    .dataframe tbody tr th:only-of-type {\n",
       "        vertical-align: middle;\n",
       "    }\n",
       "\n",
       "    .dataframe tbody tr th {\n",
       "        vertical-align: top;\n",
       "    }\n",
       "\n",
       "    .dataframe thead th {\n",
       "        text-align: right;\n",
       "    }\n",
       "</style>\n",
       "<table border=\"1\" class=\"dataframe\">\n",
       "  <thead>\n",
       "    <tr style=\"text-align: right;\">\n",
       "      <th></th>\n",
       "      <th>均值</th>\n",
       "      <th>最小</th>\n",
       "      <th>最大</th>\n",
       "      <th>标准差</th>\n",
       "    </tr>\n",
       "  </thead>\n",
       "  <tbody>\n",
       "    <tr>\n",
       "      <th>1000</th>\n",
       "      <td>0.5</td>\n",
       "      <td>0.5</td>\n",
       "      <td>0.5</td>\n",
       "      <td>0</td>\n",
       "    </tr>\n",
       "    <tr>\n",
       "      <th>1100</th>\n",
       "      <td>0.504189</td>\n",
       "      <td>0.518716</td>\n",
       "      <td>0.49593</td>\n",
       "      <td>0.00585493</td>\n",
       "    </tr>\n",
       "    <tr>\n",
       "      <th>0100</th>\n",
       "      <td>0.510131</td>\n",
       "      <td>0.518755</td>\n",
       "      <td>0.509217</td>\n",
       "      <td>0.00273126</td>\n",
       "    </tr>\n",
       "    <tr>\n",
       "      <th>1110</th>\n",
       "      <td>0.545965</td>\n",
       "      <td>0.555137</td>\n",
       "      <td>0.537965</td>\n",
       "      <td>0.00554577</td>\n",
       "    </tr>\n",
       "    <tr>\n",
       "      <th>1001</th>\n",
       "      <td>0.546099</td>\n",
       "      <td>0.548622</td>\n",
       "      <td>0.542352</td>\n",
       "      <td>0.00215775</td>\n",
       "    </tr>\n",
       "    <tr>\n",
       "      <th>0001</th>\n",
       "      <td>0.546168</td>\n",
       "      <td>0.5494</td>\n",
       "      <td>0.542582</td>\n",
       "      <td>0.00206773</td>\n",
       "    </tr>\n",
       "    <tr>\n",
       "      <th>1101</th>\n",
       "      <td>0.546489</td>\n",
       "      <td>0.553434</td>\n",
       "      <td>0.541188</td>\n",
       "      <td>0.0039441</td>\n",
       "    </tr>\n",
       "    <tr>\n",
       "      <th>1010</th>\n",
       "      <td>0.548588</td>\n",
       "      <td>0.550922</td>\n",
       "      <td>0.543133</td>\n",
       "      <td>0.00227812</td>\n",
       "    </tr>\n",
       "    <tr>\n",
       "      <th>0010</th>\n",
       "      <td>0.548818</td>\n",
       "      <td>0.550922</td>\n",
       "      <td>0.547342</td>\n",
       "      <td>0.00166164</td>\n",
       "    </tr>\n",
       "    <tr>\n",
       "      <th>0101</th>\n",
       "      <td>0.548947</td>\n",
       "      <td>0.55936</td>\n",
       "      <td>0.542068</td>\n",
       "      <td>0.00446313</td>\n",
       "    </tr>\n",
       "    <tr>\n",
       "      <th>0110</th>\n",
       "      <td>0.55082</td>\n",
       "      <td>0.55619</td>\n",
       "      <td>0.538098</td>\n",
       "      <td>0.0043631</td>\n",
       "    </tr>\n",
       "    <tr>\n",
       "      <th>0011</th>\n",
       "      <td>0.557124</td>\n",
       "      <td>0.577175</td>\n",
       "      <td>0.520812</td>\n",
       "      <td>0.0199237</td>\n",
       "    </tr>\n",
       "    <tr>\n",
       "      <th>0111</th>\n",
       "      <td>0.557518</td>\n",
       "      <td>0.574533</td>\n",
       "      <td>0.527247</td>\n",
       "      <td>0.0152752</td>\n",
       "    </tr>\n",
       "    <tr>\n",
       "      <th>1111</th>\n",
       "      <td>0.558591</td>\n",
       "      <td>0.576443</td>\n",
       "      <td>0.535041</td>\n",
       "      <td>0.0143769</td>\n",
       "    </tr>\n",
       "    <tr>\n",
       "      <th>1011</th>\n",
       "      <td>0.559386</td>\n",
       "      <td>0.577167</td>\n",
       "      <td>0.528304</td>\n",
       "      <td>0.0152961</td>\n",
       "    </tr>\n",
       "    <tr>\n",
       "      <th>0000</th>\n",
       "      <td>NaN</td>\n",
       "      <td>NaN</td>\n",
       "      <td>NaN</td>\n",
       "      <td>NaN</td>\n",
       "    </tr>\n",
       "  </tbody>\n",
       "</table>\n",
       "</div>"
      ],
      "text/plain": [
       "            均值        最小        最大         标准差\n",
       "1000       0.5       0.5       0.5           0\n",
       "1100  0.504189  0.518716   0.49593  0.00585493\n",
       "0100  0.510131  0.518755  0.509217  0.00273126\n",
       "1110  0.545965  0.555137  0.537965  0.00554577\n",
       "1001  0.546099  0.548622  0.542352  0.00215775\n",
       "0001  0.546168    0.5494  0.542582  0.00206773\n",
       "1101  0.546489  0.553434  0.541188   0.0039441\n",
       "1010  0.548588  0.550922  0.543133  0.00227812\n",
       "0010  0.548818  0.550922  0.547342  0.00166164\n",
       "0101  0.548947   0.55936  0.542068  0.00446313\n",
       "0110   0.55082   0.55619  0.538098   0.0043631\n",
       "0011  0.557124  0.577175  0.520812   0.0199237\n",
       "0111  0.557518  0.574533  0.527247   0.0152752\n",
       "1111  0.558591  0.576443  0.535041   0.0143769\n",
       "1011  0.559386  0.577167  0.528304   0.0152961\n",
       "0000       NaN       NaN       NaN         NaN"
      ]
     },
     "execution_count": 8,
     "metadata": {},
     "output_type": "execute_result"
    }
   ],
   "source": [
    "dfobj.sort_values('均值')"
   ]
  },
  {
   "cell_type": "code",
   "execution_count": 44,
   "metadata": {},
   "outputs": [],
   "source": [
    "# UM特征的单测试\n",
    "x_train,y_train,x_test,y_test = preprocess.split_xy(train,valid,columns=get_lastfeatures(manjian=0,\n",
    "                                                                                     weekdays=0,distance = 1,people=1))\n",
    "model_name,model_score = modelacc.hodgepodge(modelacc.classifiers,x_train,y_train,x_test,y_test,valid)\n",
    "\n",
    "#print([feature_list[leng] for leng in range(0,len(i)) if i[leng] is True ])\n",
    "#dfobj.loc[l01,:] = [np.mean(model_score),np.max(model_score),np.min(model_score),np.std(model_score)]"
   ]
  },
  {
   "cell_type": "code",
   "execution_count": 10,
   "metadata": {},
   "outputs": [
    {
     "data": {
      "text/plain": [
       "Index(['User_id', 'Merchant_id', 'Coupon_id', 'Discount_rate', 'Distance',\n",
       "       'Date_received', 'discount_rate', 'discount_man', 'discount_jian',\n",
       "       'discount_type', 'weekday', 'weekday_type', 'weekday_1', 'weekday_2',\n",
       "       'weekday_3', 'weekday_4', 'weekday_5', 'weekday_6', 'weekday_7',\n",
       "       'UM_id', '用户id', '只领券', '核销数', '直接买', '单商铺最大购买次数', '成交商家数'],\n",
       "      dtype='object')"
      ]
     },
     "execution_count": 10,
     "metadata": {},
     "output_type": "execute_result"
    }
   ],
   "source": [
    "dftest.columns"
   ]
  },
  {
   "cell_type": "markdown",
   "metadata": {},
   "source": [
    "# 提交"
   ]
  },
  {
   "cell_type": "code",
   "execution_count": 58,
   "metadata": {},
   "outputs": [],
   "source": [
    "def output_submit(model_this,original_feature):\n",
    "    final_model = model_this\n",
    "    y_test_pred = model_this.predict_proba(dftest[original_feature])\n",
    "    dftest1 = dftest[['User_id','Coupon_id','Date_received']].copy()\n",
    "    dftest1['label'] = y_test_pred[:,1]\n",
    "    #dftest1.to_csv(name, index=False, header=False)\n",
    "    return dftest1\n",
    "\n",
    "def count_fenshu(model,x_train,y_train,x_test,y_test,valid):\n",
    "    model.fit(x_train, y_train)\n",
    "    y_pre = model.predict(x_test)\n",
    "    y_prob = model.predict_proba(x_test)\n",
    "    cc = evaluation.get_official_auc(y_prob[:,1],y_test,valid)\n",
    "    return cc,model"
   ]
  },
  {
   "cell_type": "code",
   "execution_count": 46,
   "metadata": {},
   "outputs": [],
   "source": [
    "model_lr = modelacc.classifiers[0][1]\n",
    "model_nbays = modelacc.classifiers[7][1]\n",
    "model_lda = modelacc.classifiers[8][1]\n",
    "model_mlp = modelacc.classifiers[9][1]"
   ]
  },
  {
   "cell_type": "code",
   "execution_count": 47,
   "metadata": {},
   "outputs": [],
   "source": [
    "model_name = ['lr','bays','lda','mlp']\n",
    "model_list = [model_lr,model_nbays,model_lda,model_mlp]"
   ]
  },
  {
   "cell_type": "code",
   "execution_count": 48,
   "metadata": {},
   "outputs": [],
   "source": [
    "model_score = []\n",
    "model_fited = []\n",
    "for model in model_list:\n",
    "    score_,model_ = count_fenshu(model,x_train,y_train,x_test,y_test,valid)\n",
    "    model_score.append(score_)\n",
    "    model_fited.append(model_)\n",
    "    "
   ]
  },
  {
   "cell_type": "code",
   "execution_count": 60,
   "metadata": {},
   "outputs": [],
   "source": [
    "dfsub_list = []\n",
    "for model in model_fited:\n",
    "    dfsub_list.append(output_submit(model,x_train.columns))"
   ]
  },
  {
   "cell_type": "code",
   "execution_count": 128,
   "metadata": {},
   "outputs": [],
   "source": [
    "def toupiao(dfsub_list):\n",
    "    label_list = []\n",
    "    for i in dfsub_list:\n",
    "        label_list.append(i.label)\n",
    "    dftp = pd.DataFrame(label_list).T    \n",
    "    dftp.loc[:,'max'] = dftp.max(axis=1) \n",
    "    dftp.loc[:,'min'] = dftp.min(axis=1) \n",
    "    dftp.loc[:,'mean'] = dftp.mean(axis=1) \n",
    "    \n",
    "    dfdiji = dfsub_list[0].loc[:,['User_id','Coupon_id', 'Date_received']]\n",
    "    dftest_max = pd.concat([dfdiji,dftp.loc[:,'max']],axis=1) \n",
    "    dftest_min = pd.concat([dfdiji,dftp.loc[:,'min']],axis=1) \n",
    "    dftest_mean = pd.concat([dfdiji,dftp.loc[:,'mean']],axis=1)\n",
    "    return dftest_max,dftest_min,dftest_mean"
   ]
  },
  {
   "cell_type": "code",
   "execution_count": 129,
   "metadata": {},
   "outputs": [],
   "source": [
    "dftest_max,dftest_min,dftest_mean = toupiao(dfsub_list)"
   ]
  },
  {
   "cell_type": "code",
   "execution_count": 135,
   "metadata": {},
   "outputs": [],
   "source": [
    "for i in zip([dftest_max,dftest_min,dftest_mean],['max','min','mean']):\n",
    "    i[0].to_csv('../storage/20201021'+i[1]+'.csv', index=False, header=False)"
   ]
  },
  {
   "cell_type": "code",
   "execution_count": null,
   "metadata": {},
   "outputs": [],
   "source": []
  },
  {
   "cell_type": "code",
   "execution_count": null,
   "metadata": {},
   "outputs": [],
   "source": []
  },
  {
   "cell_type": "code",
   "execution_count": null,
   "metadata": {},
   "outputs": [],
   "source": []
  },
  {
   "cell_type": "code",
   "execution_count": null,
   "metadata": {},
   "outputs": [],
   "source": []
  },
  {
   "cell_type": "code",
   "execution_count": 11,
   "metadata": {},
   "outputs": [],
   "source": [
    "# \n",
    "model_lr = modelacc.classifiers[0][1]\n",
    "\n",
    "#original_feature = ['discount_rate','discount_type','discount_man', 'discount_jian','Distance', 'weekday', 'weekday_type'] + weekdaycols\n",
    "original_feature = x_train.columns\n",
    "final_model = model_lr\n",
    "y_test_pred = final_model.predict_proba(dftest[original_feature])\n",
    "dftest1 = dftest[['User_id','Coupon_id','Date_received']].copy()\n",
    "dftest1['label'] = y_test_pred[:,1]\n",
    "dftest1.to_csv('submit_xgb.csv', index=False, header=False)\n",
    "dftest1.head()"
   ]
  },
  {
   "cell_type": "code",
   "execution_count": 17,
   "metadata": {},
   "outputs": [],
   "source": [
    "import matplotlib.pyplot as plt"
   ]
  },
  {
   "cell_type": "code",
   "execution_count": 22,
   "metadata": {},
   "outputs": [
    {
     "data": {
      "text/plain": [
       "<matplotlib.axes._subplots.AxesSubplot at 0x2203d6fe388>"
      ]
     },
     "execution_count": 22,
     "metadata": {},
     "output_type": "execute_result"
    },
    {
     "data": {
      "image/png": "[encoded data removed]",
      "text/plain": [
       "<Figure size 432x288 with 1 Axes>"
      ]
     },
     "metadata": {
      "needs_background": "light"
     },
     "output_type": "display_data"
    }
   ],
   "source": [
    "dftest1.label.plot(kind = 'kde')"
   ]
  },
  {
   "cell_type": "code",
   "execution_count": 25,
   "metadata": {},
   "outputs": [
    {
     "data": {
      "text/plain": [
       "0         0.024014\n",
       "1         0.020143\n",
       "2         0.011846\n",
       "3         0.011846\n",
       "4         0.020143\n",
       "            ...   \n",
       "113635    0.004856\n",
       "113636    0.020143\n",
       "113637    0.020143\n",
       "113638    0.028608\n",
       "113639    0.011846\n",
       "Name: label, Length: 113640, dtype: float64"
      ]
     },
     "execution_count": 25,
     "metadata": {},
     "output_type": "execute_result"
    }
   ],
   "source": [
    "dftest1.label"
   ]
  },
  {
   "cell_type": "code",
   "execution_count": null,
   "metadata": {},
   "outputs": [],
   "source": []
  }
 ],
 "metadata": {
  "kernelspec": {
   "display_name": "Python 3",
   "language": "python",
   "name": "python3"
  },
  "language_info": {
   "codemirror_mode": {
    "name": "ipython",
    "version": 3
   },
   "file_extension": ".py",
   "mimetype": "text/x-python",
   "name": "python",
   "nbconvert_exporter": "python",
   "pygments_lexer": "ipython3",
   "version": "3.7.6"
  }
 },
 "nbformat": 4,
 "nbformat_minor": 2
}
