{
 "cells": [
  {
   "cell_type": "code",
   "execution_count": 2,
   "metadata": {},
   "outputs": [],
   "source": [
    "from  sklearn.linear_model  import SGDClassifier,LogisticRegression\n",
    "import evaluation"
   ]
  },
  {
   "cell_type": "code",
   "execution_count": 1,
   "metadata": {},
   "outputs": [],
   "source": [
    "import preprocess\n",
    "import featureprocess\n",
    "import fileio\n",
    "\n",
    "dfoff,dftest,dfon = fileio.read_all()\n",
    "dfoff,dfall,train,valid = preprocess.preprocess(dfoff)\n",
    "\n",
    "dfoff = featureprocess.process_features_main(dfoff)\n",
    "dfall = featureprocess.process_features_main(dfall)\n",
    "\n",
    "train = featureprocess.process_features_main(train)\n",
    "valid = featureprocess.process_features_main(valid)\n",
    "dftest = featureprocess.process_features_main(valid)\n",
    "\n",
    "\n",
    "\n",
    "def get_lastfeatures():\n",
    "    weekdaycols = ['weekday_' + str(i) for i in range(1,8)]\n",
    "    lastfeatures = ['discount_rate','discount_type','discount_man', 'discount_jian','Distance', 'weekday', 'weekday_type'] + weekdaycols\n",
    "    lastfeatures = lastfeatures +['只领券', '核销数', '直接买', '单商铺最大购买次数', '成交商家数']\n",
    "    return lastfeatures\n",
    "\n",
    "x_train,y_train,x_test,y_test = preprocess.split_xy(train,valid,columns=get_lastfeatures())"
   ]
  },
  {
   "cell_type": "code",
   "execution_count": 3,
   "metadata": {},
   "outputs": [
    {
     "name": "stderr",
     "output_type": "stream",
     "text": [
      "c:\\cx\\python\\python36\\installthere\\lib\\site-packages\\sklearn\\metrics\\_ranking.py:805: UndefinedMetricWarning: No negative samples in y_true, false positive value should be meaningless\n",
      "  UndefinedMetricWarning)\n",
      "c:\\cx\\python\\python36\\installthere\\lib\\site-packages\\sklearn\\metrics\\_ranking.py:89: RuntimeWarning: invalid value encountered in less\n",
      "  if np.any(dx < 0):\n"
     ]
    },
    {
     "data": {
      "text/plain": [
       "0.5758439654053648"
      ]
     },
     "execution_count": 3,
     "metadata": {},
     "output_type": "execute_result"
    }
   ],
   "source": [
    "model = SGDClassifier(loss='log',penalty='elasticnet',fit_intercept=True,max_iter=100,shuffle=True,\n",
    "                      alpha = 0.01,l1_ratio = 0.01,n_jobs=1,class_weight=None)\n",
    "\n",
    "model.fit(x_train, y_train)\n",
    "y_pre = model.predict(x_test)\n",
    "y_prob = model.predict_proba(x_test)\n",
    "#get_model_scores(model,x_test,y_test,y_pre)\n",
    "evaluation.get_official_auc(y_prob[:,1],y_test,valid)"
   ]
  },
  {
   "cell_type": "code",
   "execution_count": null,
   "metadata": {},
   "outputs": [],
   "source": []
  }
 ],
 "metadata": {
  "kernelspec": {
   "display_name": "Python 3",
   "language": "python",
   "name": "python3"
  },
  "language_info": {
   "codemirror_mode": {
    "name": "ipython",
    "version": 3
   },
   "file_extension": ".py",
   "mimetype": "text/x-python",
   "name": "python",
   "nbconvert_exporter": "python",
   "pygments_lexer": "ipython3",
   "version": "3.6.8"
  }
 },
 "nbformat": 4,
 "nbformat_minor": 2
}
