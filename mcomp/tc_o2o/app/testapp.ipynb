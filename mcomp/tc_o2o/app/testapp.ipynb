{
 "cells": [
  {
   "cell_type": "code",
   "execution_count": 1,
   "metadata": {},
   "outputs": [],
   "source": [
    "import preprocess \n",
    "import fileio\n",
    "import evaluation\n",
    "import pandas as pd\n",
    "from  sklearn.linear_model  import SGDClassifier,LogisticRegression"
   ]
  },
  {
   "cell_type": "code",
   "execution_count": 2,
   "metadata": {},
   "outputs": [],
   "source": [
    "dfoff ,dftest,dfon = fileio.read_all()"
   ]
  },
  {
   "cell_type": "code",
   "execution_count": 3,
   "metadata": {},
   "outputs": [],
   "source": [
    "# 预处理，部分特征处理\n",
    "dfoff,weekdaycols = preprocess.preprocess(dfoff)\n",
    "dftest,weekdaycols = preprocess.preprocess(dftest)"
   ]
  },
  {
   "cell_type": "code",
   "execution_count": 4,
   "metadata": {},
   "outputs": [],
   "source": [
    "# 分割测试子集和训练子集\n",
    "x_train,y_train,x_test,y_test,train,valid = preprocess.split_t_v(dfoff,weekdaycols)"
   ]
  },
  {
   "cell_type": "code",
   "execution_count": 6,
   "metadata": {},
   "outputs": [
    {
     "name": "stderr",
     "output_type": "stream",
     "text": [
      "c:\\cx\\python\\python36\\installthere\\lib\\site-packages\\sklearn\\metrics\\_ranking.py:805: UndefinedMetricWarning: No negative samples in y_true, false positive value should be meaningless\n",
      "  UndefinedMetricWarning)\n",
      "c:\\cx\\python\\python36\\installthere\\lib\\site-packages\\sklearn\\metrics\\_ranking.py:89: RuntimeWarning: invalid value encountered in less\n",
      "  if np.any(dx < 0):\n"
     ]
    },
    {
     "data": {
      "text/plain": [
       "0.5560613797745724"
      ]
     },
     "execution_count": 6,
     "metadata": {},
     "output_type": "execute_result"
    }
   ],
   "source": [
    "model = SGDClassifier(loss='log',penalty='elasticnet',fit_intercept=True,max_iter=100,shuffle=True,\n",
    "                      alpha = 0.01,l1_ratio = 0.01,n_jobs=1,class_weight=None)\n",
    "\n",
    "model.fit(x_train, y_train)\n",
    "y_pre = model.predict(x_test)\n",
    "y_prob = model.predict_proba(x_test)\n",
    "#get_model_scores(model,x_test,y_test,y_pre)\n",
    "evaluation.get_official_auc(y_prob[:,1],y_test,valid)"
   ]
  },
  {
   "cell_type": "code",
   "execution_count": null,
   "metadata": {},
   "outputs": [],
   "source": []
  }
 ],
 "metadata": {
  "kernelspec": {
   "display_name": "Python 3",
   "language": "python",
   "name": "python3"
  },
  "language_info": {
   "codemirror_mode": {
    "name": "ipython",
    "version": 3
   },
   "file_extension": ".py",
   "mimetype": "text/x-python",
   "name": "python",
   "nbconvert_exporter": "python",
   "pygments_lexer": "ipython3",
   "version": "3.6.8"
  }
 },
 "nbformat": 4,
 "nbformat_minor": 2
}
