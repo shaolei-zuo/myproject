{
 "cells": [
  {
   "cell_type": "code",
   "execution_count": 14,
   "metadata": {},
   "outputs": [],
   "source": [
    "import threading\n",
    "import time"
   ]
  },
  {
   "cell_type": "markdown",
   "metadata": {},
   "source": [
    "https://www.runoob.com/python3/python3-multithreading.html"
   ]
  },
  {
   "cell_type": "code",
   "execution_count": 21,
   "metadata": {},
   "outputs": [
    {
     "name": "stdout",
     "output_type": "stream",
     "text": [
      "time cost 0.0 s\n"
     ]
    }
   ],
   "source": [
    " time_start=time.time()\n",
    "time_end=time.time()\n",
    "print('time cost',time_end-time_start,'s')"
   ]
  },
  {
   "cell_type": "code",
   "execution_count": 22,
   "metadata": {},
   "outputs": [
    {
     "name": "stdout",
     "output_type": "stream",
     "text": [
      "Thread-1: Fri Sep 11 14:58:13 2020\n",
      "Thread-2: Fri Sep 11 14:58:15 2020\n",
      "Thread-1: Fri Sep 11 14:58:15 2020\n",
      "Thread-1: Fri Sep 11 14:58:17 2020\n",
      "Thread-2: Fri Sep 11 14:58:19 2020\n",
      "Thread-1: Fri Sep 11 14:58:19 2020\n",
      "Thread-1: Fri Sep 11 14:58:21 2020\n",
      "Thread-2: Fri Sep 11 14:58:23 2020\n",
      "Thread-2: Fri Sep 11 14:58:27 2020\n",
      "Thread-2: Fri Sep 11 14:58:31 2020\n"
     ]
    },
    {
     "ename": "KeyboardInterrupt",
     "evalue": "",
     "output_type": "error",
     "traceback": [
      "\u001b[1;31m---------------------------------------------------------------------------\u001b[0m",
      "\u001b[1;31mKeyboardInterrupt\u001b[0m                         Traceback (most recent call last)",
      "\u001b[1;32m<ipython-input-22-ae1a150fe078>\u001b[0m in \u001b[0;36m<module>\u001b[1;34m\u001b[0m\n\u001b[0;32m     20\u001b[0m \u001b[1;33m\u001b[0m\u001b[0m\n\u001b[0;32m     21\u001b[0m \u001b[1;32mwhile\u001b[0m \u001b[1;36m1\u001b[0m\u001b[1;33m:\u001b[0m\u001b[1;33m\u001b[0m\u001b[1;33m\u001b[0m\u001b[0m\n\u001b[1;32m---> 22\u001b[1;33m    \u001b[1;32mpass\u001b[0m\u001b[1;33m\u001b[0m\u001b[1;33m\u001b[0m\u001b[0m\n\u001b[0m",
      "\u001b[1;31mKeyboardInterrupt\u001b[0m: "
     ]
    }
   ],
   "source": [
    "import _thread\n",
    "import time\n",
    "\n",
    "# 为线程定义一个函数\n",
    "def print_time( threadName, delay):\n",
    "   count = 0\n",
    "   while count < 5:\n",
    "      time.sleep(delay)\n",
    "      count += 1\n",
    "      print (\"%s: %s\" % ( threadName, time.ctime(time.time()) ))\n",
    "\n",
    "# 创建两个线程\n",
    "try:\n",
    "   _thread.start_new_thread( print_time, (\"Thread-1\", 2, ) )\n",
    "   _thread.start_new_thread( print_time, (\"Thread-2\", 4, ) )\n",
    "except:\n",
    "   print (\"Error: 无法启动线程\")\n",
    "\n",
    "while 1:\n",
    "   pass"
   ]
  },
  {
   "cell_type": "code",
   "execution_count": 33,
   "metadata": {},
   "outputs": [
    {
     "name": "stdout",
     "output_type": "stream",
     "text": [
      "开始线程：Thread-1\n",
      "开始线程：Thread-2\n",
      "Thread-1: Fri Sep 11 15:43:19 2020\n",
      "Thread-1: Fri Sep 11 15:43:20 2020\n",
      "Thread-2: Fri Sep 11 15:43:20 2020\n",
      "Thread-1: Fri Sep 11 15:43:21 2020\n",
      "Thread-1: Fri Sep 11 15:43:22 2020\n",
      "Thread-2: Fri Sep 11 15:43:22 2020\n",
      "Thread-1: Fri Sep 11 15:43:23 2020\n",
      "退出线程：Thread-1\n",
      "Thread-2: Fri Sep 11 15:43:24 2020\n",
      "Thread-2: Fri Sep 11 15:43:26 2020\n",
      "Thread-2: Fri Sep 11 15:43:28 2020\n",
      "退出线程：Thread-2\n",
      "退出主线程\n"
     ]
    }
   ],
   "source": [
    "import threading\n",
    "import time\n",
    "\n",
    "exitFlag = 0\n",
    "\n",
    "class myThread (threading.Thread):\n",
    "    def __init__(self, threadID, name, counter):\n",
    "        threading.Thread.__init__(self)\n",
    "        self.threadID = threadID\n",
    "        self.name = name\n",
    "        self.counter = counter\n",
    "    def run(self):\n",
    "        print (\"开始线程：\" + self.name)\n",
    "        print_time(self.name, self.counter, 5)\n",
    "        print (\"退出线程：\" + self.name)\n",
    "\n",
    "def print_time(threadName, delay, counter):\n",
    "    \n",
    "    while counter:\n",
    "        if exitFlag:\n",
    "            print('23333333333333333333333333')\n",
    "            threadName.exit()\n",
    "        time.sleep(delay)\n",
    "        print (\"%s: %s\" % (threadName, time.ctime(time.time())))\n",
    "\n",
    "        counter -= 1\n",
    "\n",
    "# 创建新线程\n",
    "thread1 = myThread(1, \"Thread-1\", 1)\n",
    "thread2 = myThread(2, \"Thread-2\", 2)\n",
    "\n",
    "# 开启新线程\n",
    "thread1.start()\n",
    "thread2.start()\n",
    "thread1.join()\n",
    "thread2.join()\n",
    "print (\"退出主线程\")"
   ]
  },
  {
   "cell_type": "code",
   "execution_count": 26,
   "metadata": {},
   "outputs": [],
   "source": [
    "threading.Thread??"
   ]
  },
  {
   "cell_type": "markdown",
   "metadata": {},
   "source": [
    "# 附录\n",
    "new_fea_1中的多线程程序的升级版本，可以自由选择核心数"
   ]
  },
  {
   "cell_type": "code",
   "execution_count": null,
   "metadata": {},
   "outputs": [],
   "source": [
    "#分n分\n",
    "#length = len(user_features)\n",
    "core_num = 6\n",
    "lenall = len(user_off_list)\n",
    "lensite = int(lenall/core_num)\n",
    "cc = np.arange(0,lenall,lensite)\n",
    "cc[-1] = lenall\n",
    "\n",
    "# 分割好数据集\n",
    "wormlist = []\n",
    "for i in zip(cc[0:-1],cc[1::]):\n",
    "    wormlist.append(user_off_list[i[0]:i[1]])\n",
    "\n",
    "# 准备相应的线程模型\n",
    "model_list = []\n",
    "for i in range(0,core_num):\n",
    "    model = myThread(i, \"Thread{}\".format(i),wormlist[i])\n",
    "    model_list.append(model)\n",
    "    "
   ]
  },
  {
   "cell_type": "code",
   "execution_count": null,
   "metadata": {},
   "outputs": [],
   "source": [
    "time_start=time.time()\n",
    "for mod in model_list:\n",
    "    mod.start()\n",
    "    \n",
    "for mod in model_list:\n",
    "    mod.join()\n",
    "print (\"退出主线程\")\n",
    "time_end=time.time()\n",
    "print('time cost',time_end-time_start,'s')"
   ]
  }
 ],
 "metadata": {
  "kernelspec": {
   "display_name": "Python 3",
   "language": "python",
   "name": "python3"
  },
  "language_info": {
   "codemirror_mode": {
    "name": "ipython",
    "version": 3
   },
   "file_extension": ".py",
   "mimetype": "text/x-python",
   "name": "python",
   "nbconvert_exporter": "python",
   "pygments_lexer": "ipython3",
   "version": "3.7.6"
  }
 },
 "nbformat": 4,
 "nbformat_minor": 2
}
